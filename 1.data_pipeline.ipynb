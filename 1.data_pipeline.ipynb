{
 "cells": [
  {
   "cell_type": "code",
   "execution_count": 1,
   "metadata": {},
   "outputs": [],
   "source": [
    "import pandas as pd\n",
    "import src.utils as utils\n",
    "import os\n",
    "from faker import Faker\n",
    "\n",
    "from sklearn.model_selection import train_test_split"
   ]
  },
  {
   "cell_type": "markdown",
   "metadata": {},
   "source": [
    "# Load config file"
   ]
  },
  {
   "cell_type": "code",
   "execution_count": 2,
   "metadata": {},
   "outputs": [
    {
     "data": {
      "text/plain": [
       "{'raw_dataset_path': 'data/raw',\n",
       " 'data_set_path': 'data/output/data.pkl',\n",
       " 'input_set_path': 'data/output/input.pkl',\n",
       " 'output_set_path': 'data/output/output.pkl',\n",
       " 'input_columns_path': 'data/output/input_columns.pkl',\n",
       " 'train_set_path': ['data/output/X_train.pkl', 'data/output/y_train.pkl'],\n",
       " 'valid_set_path': ['data/output/X_valid.pkl', 'data/output/y_valid.pkl'],\n",
       " 'test_set_path': ['data/output/X_test.pkl', 'data/output/y_test.pkl'],\n",
       " 'output_column': 'product_id',\n",
       " 'seed': 42,\n",
       " 'test_size': 0.2,\n",
       " 'standardizer_path': 'data/output/standardizer.pkl',\n",
       " 'preprocessor_path': 'data/output/preprocessor.pkl',\n",
       " 'train_clean_path': ['data/output/X_train_clean.pkl',\n",
       "  'data/output/y_train_clean.pkl'],\n",
       " 'valid_clean_path': ['data/output/X_valid_clean.pkl',\n",
       "  'data/output/y_valid_clean.pkl'],\n",
       " 'test_clean_path': ['data/output/X_test_clean.pkl',\n",
       "  'data/output/y_test_clean.pkl'],\n",
       " 'list_of_model_path': 'log/list_of_model.pkl',\n",
       " 'list_of_param_path': 'log/list_of_param.pkl',\n",
       " 'list_of_tuned_model_path': 'log/list_of_tuned_model.pkl',\n",
       " 'best_model_path': 'models/best_model.pkl',\n",
       " 'best_threshold_path': 'models/best_threshold.pkl'}"
      ]
     },
     "execution_count": 2,
     "metadata": {},
     "output_type": "execute_result"
    }
   ],
   "source": [
    "CONFIG_DATA = utils.config_load()\n",
    "CONFIG_DATA"
   ]
  },
  {
   "cell_type": "markdown",
   "metadata": {},
   "source": [
    "## Synthetic data for dummy and drop unused column"
   ]
  },
  {
   "cell_type": "code",
   "execution_count": 3,
   "metadata": {},
   "outputs": [
    {
     "data": {
      "text/plain": [
       "'data/raw'"
      ]
     },
     "execution_count": 3,
     "metadata": {},
     "output_type": "execute_result"
    }
   ],
   "source": [
    "raw_dataset_path = CONFIG_DATA['raw_dataset_path'] \n",
    "raw_dataset_path"
   ]
  },
  {
   "cell_type": "code",
   "execution_count": 4,
   "metadata": {},
   "outputs": [],
   "source": [
    "purchase_history = pd.read_csv(raw_dataset_path + '/purchase_history.csv', delimiter=\";\")\n",
    "product_detail = pd.read_csv(raw_dataset_path+ '/product_details.csv', delimiter=\";\")\n",
    "customer_interactions = pd.read_csv(raw_dataset_path + '/customer_interactions.csv', delimiter=\",\")"
   ]
  },
  {
   "cell_type": "code",
   "execution_count": 5,
   "metadata": {},
   "outputs": [
    {
     "data": {
      "text/html": [
       "<div>\n",
       "<style scoped>\n",
       "    .dataframe tbody tr th:only-of-type {\n",
       "        vertical-align: middle;\n",
       "    }\n",
       "\n",
       "    .dataframe tbody tr th {\n",
       "        vertical-align: top;\n",
       "    }\n",
       "\n",
       "    .dataframe thead th {\n",
       "        text-align: right;\n",
       "    }\n",
       "</style>\n",
       "<table border=\"1\" class=\"dataframe\">\n",
       "  <thead>\n",
       "    <tr style=\"text-align: right;\">\n",
       "      <th></th>\n",
       "      <th>customer_id</th>\n",
       "      <th>product_id</th>\n",
       "      <th>purchase_date</th>\n",
       "      <th>Unnamed: 3</th>\n",
       "      <th>Unnamed: 4</th>\n",
       "      <th>Unnamed: 5</th>\n",
       "      <th>Unnamed: 6</th>\n",
       "    </tr>\n",
       "  </thead>\n",
       "  <tbody>\n",
       "    <tr>\n",
       "      <th>0</th>\n",
       "      <td>1</td>\n",
       "      <td>101</td>\n",
       "      <td>2023-01-01</td>\n",
       "      <td>NaN</td>\n",
       "      <td>NaN</td>\n",
       "      <td>NaN</td>\n",
       "      <td>NaN</td>\n",
       "    </tr>\n",
       "    <tr>\n",
       "      <th>1</th>\n",
       "      <td>1</td>\n",
       "      <td>105</td>\n",
       "      <td>2023-01-05</td>\n",
       "      <td>NaN</td>\n",
       "      <td>NaN</td>\n",
       "      <td>NaN</td>\n",
       "      <td>NaN</td>\n",
       "    </tr>\n",
       "    <tr>\n",
       "      <th>2</th>\n",
       "      <td>2</td>\n",
       "      <td>102</td>\n",
       "      <td>2023-01-02</td>\n",
       "      <td>NaN</td>\n",
       "      <td>NaN</td>\n",
       "      <td>NaN</td>\n",
       "      <td>NaN</td>\n",
       "    </tr>\n",
       "    <tr>\n",
       "      <th>3</th>\n",
       "      <td>3</td>\n",
       "      <td>103</td>\n",
       "      <td>2023-01-03</td>\n",
       "      <td>NaN</td>\n",
       "      <td>NaN</td>\n",
       "      <td>NaN</td>\n",
       "      <td>NaN</td>\n",
       "    </tr>\n",
       "    <tr>\n",
       "      <th>4</th>\n",
       "      <td>4</td>\n",
       "      <td>104</td>\n",
       "      <td>2023-01-04</td>\n",
       "      <td>NaN</td>\n",
       "      <td>NaN</td>\n",
       "      <td>NaN</td>\n",
       "      <td>NaN</td>\n",
       "    </tr>\n",
       "  </tbody>\n",
       "</table>\n",
       "</div>"
      ],
      "text/plain": [
       "   customer_id  product_id purchase_date  Unnamed: 3  Unnamed: 4  Unnamed: 5  \\\n",
       "0            1         101    2023-01-01         NaN         NaN         NaN   \n",
       "1            1         105    2023-01-05         NaN         NaN         NaN   \n",
       "2            2         102    2023-01-02         NaN         NaN         NaN   \n",
       "3            3         103    2023-01-03         NaN         NaN         NaN   \n",
       "4            4         104    2023-01-04         NaN         NaN         NaN   \n",
       "\n",
       "   Unnamed: 6  \n",
       "0         NaN  \n",
       "1         NaN  \n",
       "2         NaN  \n",
       "3         NaN  \n",
       "4         NaN  "
      ]
     },
     "execution_count": 5,
     "metadata": {},
     "output_type": "execute_result"
    }
   ],
   "source": [
    "# cek struktur data\n",
    "purchase_history.head()"
   ]
  },
  {
   "cell_type": "code",
   "execution_count": 6,
   "metadata": {},
   "outputs": [
    {
     "data": {
      "text/html": [
       "<div>\n",
       "<style scoped>\n",
       "    .dataframe tbody tr th:only-of-type {\n",
       "        vertical-align: middle;\n",
       "    }\n",
       "\n",
       "    .dataframe tbody tr th {\n",
       "        vertical-align: top;\n",
       "    }\n",
       "\n",
       "    .dataframe thead th {\n",
       "        text-align: right;\n",
       "    }\n",
       "</style>\n",
       "<table border=\"1\" class=\"dataframe\">\n",
       "  <thead>\n",
       "    <tr style=\"text-align: right;\">\n",
       "      <th></th>\n",
       "      <th>product_id</th>\n",
       "      <th>category</th>\n",
       "      <th>price</th>\n",
       "      <th>ratings</th>\n",
       "      <th>Unnamed: 4</th>\n",
       "      <th>Unnamed: 5</th>\n",
       "      <th>Unnamed: 6</th>\n",
       "    </tr>\n",
       "  </thead>\n",
       "  <tbody>\n",
       "    <tr>\n",
       "      <th>0</th>\n",
       "      <td>101</td>\n",
       "      <td>Electronics</td>\n",
       "      <td>500</td>\n",
       "      <td>4.5</td>\n",
       "      <td>NaN</td>\n",
       "      <td>NaN</td>\n",
       "      <td>NaN</td>\n",
       "    </tr>\n",
       "    <tr>\n",
       "      <th>1</th>\n",
       "      <td>102</td>\n",
       "      <td>Clothing</td>\n",
       "      <td>50</td>\n",
       "      <td>3.8</td>\n",
       "      <td>NaN</td>\n",
       "      <td>NaN</td>\n",
       "      <td>NaN</td>\n",
       "    </tr>\n",
       "    <tr>\n",
       "      <th>2</th>\n",
       "      <td>103</td>\n",
       "      <td>Home &amp; Kitchen</td>\n",
       "      <td>200</td>\n",
       "      <td>4.2</td>\n",
       "      <td>NaN</td>\n",
       "      <td>NaN</td>\n",
       "      <td>NaN</td>\n",
       "    </tr>\n",
       "    <tr>\n",
       "      <th>3</th>\n",
       "      <td>104</td>\n",
       "      <td>Beauty</td>\n",
       "      <td>30</td>\n",
       "      <td>4.0</td>\n",
       "      <td>NaN</td>\n",
       "      <td>NaN</td>\n",
       "      <td>NaN</td>\n",
       "    </tr>\n",
       "    <tr>\n",
       "      <th>4</th>\n",
       "      <td>105</td>\n",
       "      <td>Electronics</td>\n",
       "      <td>800</td>\n",
       "      <td>4.8</td>\n",
       "      <td>NaN</td>\n",
       "      <td>NaN</td>\n",
       "      <td>NaN</td>\n",
       "    </tr>\n",
       "  </tbody>\n",
       "</table>\n",
       "</div>"
      ],
      "text/plain": [
       "   product_id        category  price  ratings  Unnamed: 4  Unnamed: 5  \\\n",
       "0         101     Electronics    500      4.5         NaN         NaN   \n",
       "1         102        Clothing     50      3.8         NaN         NaN   \n",
       "2         103  Home & Kitchen    200      4.2         NaN         NaN   \n",
       "3         104          Beauty     30      4.0         NaN         NaN   \n",
       "4         105     Electronics    800      4.8         NaN         NaN   \n",
       "\n",
       "   Unnamed: 6  \n",
       "0         NaN  \n",
       "1         NaN  \n",
       "2         NaN  \n",
       "3         NaN  \n",
       "4         NaN  "
      ]
     },
     "execution_count": 6,
     "metadata": {},
     "output_type": "execute_result"
    }
   ],
   "source": [
    "product_detail.head()"
   ]
  },
  {
   "cell_type": "code",
   "execution_count": 7,
   "metadata": {},
   "outputs": [
    {
     "data": {
      "text/html": [
       "<div>\n",
       "<style scoped>\n",
       "    .dataframe tbody tr th:only-of-type {\n",
       "        vertical-align: middle;\n",
       "    }\n",
       "\n",
       "    .dataframe tbody tr th {\n",
       "        vertical-align: top;\n",
       "    }\n",
       "\n",
       "    .dataframe thead th {\n",
       "        text-align: right;\n",
       "    }\n",
       "</style>\n",
       "<table border=\"1\" class=\"dataframe\">\n",
       "  <thead>\n",
       "    <tr style=\"text-align: right;\">\n",
       "      <th></th>\n",
       "      <th>customer_id</th>\n",
       "      <th>page_views</th>\n",
       "      <th>time_spent</th>\n",
       "    </tr>\n",
       "  </thead>\n",
       "  <tbody>\n",
       "    <tr>\n",
       "      <th>0</th>\n",
       "      <td>1</td>\n",
       "      <td>25</td>\n",
       "      <td>120</td>\n",
       "    </tr>\n",
       "    <tr>\n",
       "      <th>1</th>\n",
       "      <td>2</td>\n",
       "      <td>20</td>\n",
       "      <td>90</td>\n",
       "    </tr>\n",
       "    <tr>\n",
       "      <th>2</th>\n",
       "      <td>3</td>\n",
       "      <td>30</td>\n",
       "      <td>150</td>\n",
       "    </tr>\n",
       "    <tr>\n",
       "      <th>3</th>\n",
       "      <td>4</td>\n",
       "      <td>15</td>\n",
       "      <td>80</td>\n",
       "    </tr>\n",
       "    <tr>\n",
       "      <th>4</th>\n",
       "      <td>5</td>\n",
       "      <td>22</td>\n",
       "      <td>110</td>\n",
       "    </tr>\n",
       "  </tbody>\n",
       "</table>\n",
       "</div>"
      ],
      "text/plain": [
       "   customer_id  page_views  time_spent\n",
       "0            1          25         120\n",
       "1            2          20          90\n",
       "2            3          30         150\n",
       "3            4          15          80\n",
       "4            5          22         110"
      ]
     },
     "execution_count": 7,
     "metadata": {},
     "output_type": "execute_result"
    }
   ],
   "source": [
    "customer_interactions.head()"
   ]
  },
  {
   "cell_type": "code",
   "execution_count": 8,
   "metadata": {},
   "outputs": [],
   "source": [
    "from faker import Faker\n",
    "import pandas as pd\n",
    "import random\n",
    "\n",
    "fake = Faker()\n",
    "categories = product_detail['category'].unique()\n",
    "\n",
    "# Generate purchase_history data\n",
    "purchase_history_data = []\n",
    "for _ in range(100):\n",
    "    purchase_history_data.append({\n",
    "        'customer_id': random.randint(1, 20),\n",
    "        'product_id': random.randint(1, 105),\n",
    "        'purchase_date': fake.date_between(start_date='-1y', end_date='today')\n",
    "    })\n",
    "\n",
    "purchase_history = pd.DataFrame(purchase_history_data)\n",
    "\n",
    "\n",
    "# Generate product_detail data\n",
    "product_detail_data = []\n",
    "product_ids = range(1, 106) # generate 100 product_id unik dari 1 hingga 100\n",
    "for product_id in product_ids:\n",
    "    product_detail_data.append({\n",
    "        'product_id': product_id,\n",
    "        'category': random.choice(categories),\n",
    "        'price': random.randint(10, 1000),\n",
    "        'ratings': round(random.uniform(1, 5), 1)\n",
    "    })\n",
    "product_detail = pd.DataFrame(product_detail_data)\n",
    "\n",
    "# Generate customer_interactions data\n",
    "customer_interactions_data = []\n",
    "for _ in range(100):\n",
    "    customer_interactions_data.append({\n",
    "        'customer_id': random.randint(1, 20),\n",
    "        'page_views': random.randint(1, 50),\n",
    "        'time_spent': random.randint(30, 300)\n",
    "    })\n",
    "\n",
    "customer_interactions = pd.DataFrame(customer_interactions_data)"
   ]
  },
  {
   "cell_type": "code",
   "execution_count": 9,
   "metadata": {},
   "outputs": [],
   "source": [
    "purchase_history.to_csv(raw_dataset_path + '/datafaker_purchase_history.csv', index=False)\n",
    "product_detail.to_csv(raw_dataset_path +'/datafaker_product_details.csv', index=False)\n",
    "customer_interactions.to_csv(raw_dataset_path +'/datafaker_customer_interactions.csv', index=False)"
   ]
  },
  {
   "cell_type": "markdown",
   "metadata": {},
   "source": [
    "## Merge data"
   ]
  },
  {
   "cell_type": "code",
   "execution_count": 27,
   "metadata": {},
   "outputs": [
    {
     "data": {
      "text/plain": [
       "{'customer_interactions': customer_id    0\n",
       " page_views     0\n",
       " time_spent     0\n",
       " dtype: int64,\n",
       " 'purchase_history': customer_id      0\n",
       " product_id       0\n",
       " purchase_date    0\n",
       " dtype: int64,\n",
       " 'product_details': product_id    0\n",
       " category      0\n",
       " price         0\n",
       " ratings       0\n",
       " dtype: int64}"
      ]
     },
     "execution_count": 27,
     "metadata": {},
     "output_type": "execute_result"
    }
   ],
   "source": [
    "# cek missing values\n",
    "missing_values = {\n",
    "    \"customer_interactions\": customer_interactions.isnull().sum(),\n",
    "    \"purchase_history\": purchase_history.isnull().sum(),\n",
    "    \"product_details\": product_detail.isnull().sum()\n",
    "}\n",
    "missing_values"
   ]
  },
  {
   "cell_type": "code",
   "execution_count": 28,
   "metadata": {},
   "outputs": [
    {
     "data": {
      "text/plain": [
       "{'customer_interactions':        customer_id  page_views  time_spent\n",
       " count   100.000000   100.00000  100.000000\n",
       " mean     11.070000    25.73000  157.740000\n",
       " std       6.092312    14.74076   78.872051\n",
       " min       1.000000     1.00000   30.000000\n",
       " 25%       6.000000    13.75000   81.750000\n",
       " 50%      11.000000    25.50000  161.000000\n",
       " 75%      16.000000    39.00000  217.000000\n",
       " max      20.000000    50.00000  296.000000,\n",
       " 'purchase_history':         customer_id  product_id purchase_date\n",
       " count    100.000000  100.000000           100\n",
       " unique          NaN         NaN            86\n",
       " top             NaN         NaN    2024-02-29\n",
       " freq            NaN         NaN             3\n",
       " mean      11.200000   56.950000           NaN\n",
       " std        5.939085   28.426895           NaN\n",
       " min        1.000000    1.000000           NaN\n",
       " 25%        7.750000   32.500000           NaN\n",
       " 50%       10.500000   58.000000           NaN\n",
       " 75%       16.000000   79.000000           NaN\n",
       " max       20.000000  105.000000           NaN,\n",
       " 'product_details':        product_id       price     ratings\n",
       " count  105.000000  105.000000  105.000000\n",
       " mean    53.000000  445.342857    2.847619\n",
       " std     30.454885  288.451063    1.117784\n",
       " min      1.000000   18.000000    1.000000\n",
       " 25%     27.000000  174.000000    1.900000\n",
       " 50%     53.000000  394.000000    3.000000\n",
       " 75%     79.000000  705.000000    3.700000\n",
       " max    105.000000  982.000000    4.900000}"
      ]
     },
     "execution_count": 28,
     "metadata": {},
     "output_type": "execute_result"
    }
   ],
   "source": [
    "# cek outliers\n",
    "summary_statistics = {\n",
    "    \"customer_interactions\": customer_interactions.describe(),\n",
    "    \"purchase_history\": purchase_history.describe(include='all'),\n",
    "    \"product_details\": product_detail.describe()\n",
    "}\n",
    "summary_statistics"
   ]
  },
  {
   "cell_type": "code",
   "execution_count": 32,
   "metadata": {},
   "outputs": [
    {
     "data": {
      "text/html": [
       "<div>\n",
       "<style scoped>\n",
       "    .dataframe tbody tr th:only-of-type {\n",
       "        vertical-align: middle;\n",
       "    }\n",
       "\n",
       "    .dataframe tbody tr th {\n",
       "        vertical-align: top;\n",
       "    }\n",
       "\n",
       "    .dataframe thead th {\n",
       "        text-align: right;\n",
       "    }\n",
       "</style>\n",
       "<table border=\"1\" class=\"dataframe\">\n",
       "  <thead>\n",
       "    <tr style=\"text-align: right;\">\n",
       "      <th></th>\n",
       "      <th>product_id</th>\n",
       "      <th>price</th>\n",
       "      <th>ratings</th>\n",
       "    </tr>\n",
       "  </thead>\n",
       "  <tbody>\n",
       "    <tr>\n",
       "      <th>count</th>\n",
       "      <td>105.000000</td>\n",
       "      <td>105.000000</td>\n",
       "      <td>105.000000</td>\n",
       "    </tr>\n",
       "    <tr>\n",
       "      <th>mean</th>\n",
       "      <td>53.000000</td>\n",
       "      <td>445.342857</td>\n",
       "      <td>2.847619</td>\n",
       "    </tr>\n",
       "    <tr>\n",
       "      <th>std</th>\n",
       "      <td>30.454885</td>\n",
       "      <td>288.451063</td>\n",
       "      <td>1.117784</td>\n",
       "    </tr>\n",
       "    <tr>\n",
       "      <th>min</th>\n",
       "      <td>1.000000</td>\n",
       "      <td>18.000000</td>\n",
       "      <td>1.000000</td>\n",
       "    </tr>\n",
       "    <tr>\n",
       "      <th>25%</th>\n",
       "      <td>27.000000</td>\n",
       "      <td>174.000000</td>\n",
       "      <td>1.900000</td>\n",
       "    </tr>\n",
       "    <tr>\n",
       "      <th>50%</th>\n",
       "      <td>53.000000</td>\n",
       "      <td>394.000000</td>\n",
       "      <td>3.000000</td>\n",
       "    </tr>\n",
       "    <tr>\n",
       "      <th>75%</th>\n",
       "      <td>79.000000</td>\n",
       "      <td>705.000000</td>\n",
       "      <td>3.700000</td>\n",
       "    </tr>\n",
       "    <tr>\n",
       "      <th>max</th>\n",
       "      <td>105.000000</td>\n",
       "      <td>982.000000</td>\n",
       "      <td>4.900000</td>\n",
       "    </tr>\n",
       "  </tbody>\n",
       "</table>\n",
       "</div>"
      ],
      "text/plain": [
       "       product_id       price     ratings\n",
       "count  105.000000  105.000000  105.000000\n",
       "mean    53.000000  445.342857    2.847619\n",
       "std     30.454885  288.451063    1.117784\n",
       "min      1.000000   18.000000    1.000000\n",
       "25%     27.000000  174.000000    1.900000\n",
       "50%     53.000000  394.000000    3.000000\n",
       "75%     79.000000  705.000000    3.700000\n",
       "max    105.000000  982.000000    4.900000"
      ]
     },
     "execution_count": 32,
     "metadata": {},
     "output_type": "execute_result"
    }
   ],
   "source": [
    "product_detail.describe()"
   ]
  },
  {
   "cell_type": "code",
   "execution_count": 11,
   "metadata": {},
   "outputs": [
    {
     "data": {
      "text/plain": [
       "105.0"
      ]
     },
     "execution_count": 11,
     "metadata": {},
     "output_type": "execute_result"
    }
   ],
   "source": [
    "summary_statistics['product_details']['ratings'].max()"
   ]
  },
  {
   "cell_type": "markdown",
   "metadata": {},
   "source": [
    "**customer_interactions**\n",
    "- Tidak ada missing values. (karna dummy)\n",
    "- Jumlah page_views dan time_spent bervariasi. page_views maksimum yang tercatat adalah 50 dan waktu_yang dihabiskan maksimum adalah 299 second.\n",
    "\n",
    "**purchase_history**\n",
    "- Tidak ada missing values. (karna dummy)\n",
    "\n",
    "**product_detail**\n",
    "- Tidak ada missing values. (karna dummy)\n",
    "- Harga produk berkisar antara $40 hingga $983 dan ratings dari 1 sampai 5 yang menunjukan urutan ordinal"
   ]
  },
  {
   "cell_type": "markdown",
   "metadata": {},
   "source": [
    "### Cek outliers dan korelasi"
   ]
  },
  {
   "cell_type": "code",
   "execution_count": 33,
   "metadata": {},
   "outputs": [
    {
     "data": {
      "text/html": [
       "<div>\n",
       "<style scoped>\n",
       "    .dataframe tbody tr th:only-of-type {\n",
       "        vertical-align: middle;\n",
       "    }\n",
       "\n",
       "    .dataframe tbody tr th {\n",
       "        vertical-align: top;\n",
       "    }\n",
       "\n",
       "    .dataframe thead th {\n",
       "        text-align: right;\n",
       "    }\n",
       "</style>\n",
       "<table border=\"1\" class=\"dataframe\">\n",
       "  <thead>\n",
       "    <tr style=\"text-align: right;\">\n",
       "      <th></th>\n",
       "      <th>customer_id</th>\n",
       "      <th>product_id</th>\n",
       "      <th>purchase_date</th>\n",
       "      <th>category</th>\n",
       "      <th>price</th>\n",
       "      <th>ratings</th>\n",
       "      <th>page_views</th>\n",
       "      <th>time_spent</th>\n",
       "    </tr>\n",
       "  </thead>\n",
       "  <tbody>\n",
       "    <tr>\n",
       "      <th>0</th>\n",
       "      <td>6</td>\n",
       "      <td>39</td>\n",
       "      <td>2023-10-27</td>\n",
       "      <td>Beauty</td>\n",
       "      <td>217</td>\n",
       "      <td>2.0</td>\n",
       "      <td>27</td>\n",
       "      <td>177</td>\n",
       "    </tr>\n",
       "    <tr>\n",
       "      <th>1</th>\n",
       "      <td>6</td>\n",
       "      <td>39</td>\n",
       "      <td>2023-10-27</td>\n",
       "      <td>Beauty</td>\n",
       "      <td>217</td>\n",
       "      <td>2.0</td>\n",
       "      <td>39</td>\n",
       "      <td>295</td>\n",
       "    </tr>\n",
       "    <tr>\n",
       "      <th>2</th>\n",
       "      <td>6</td>\n",
       "      <td>39</td>\n",
       "      <td>2023-10-27</td>\n",
       "      <td>Beauty</td>\n",
       "      <td>217</td>\n",
       "      <td>2.0</td>\n",
       "      <td>4</td>\n",
       "      <td>251</td>\n",
       "    </tr>\n",
       "    <tr>\n",
       "      <th>3</th>\n",
       "      <td>6</td>\n",
       "      <td>39</td>\n",
       "      <td>2023-10-27</td>\n",
       "      <td>Beauty</td>\n",
       "      <td>217</td>\n",
       "      <td>2.0</td>\n",
       "      <td>34</td>\n",
       "      <td>209</td>\n",
       "    </tr>\n",
       "    <tr>\n",
       "      <th>4</th>\n",
       "      <td>6</td>\n",
       "      <td>39</td>\n",
       "      <td>2023-10-27</td>\n",
       "      <td>Beauty</td>\n",
       "      <td>217</td>\n",
       "      <td>2.0</td>\n",
       "      <td>17</td>\n",
       "      <td>256</td>\n",
       "    </tr>\n",
       "  </tbody>\n",
       "</table>\n",
       "</div>"
      ],
      "text/plain": [
       "   customer_id  product_id purchase_date category  price  ratings  page_views  \\\n",
       "0            6          39    2023-10-27   Beauty    217      2.0          27   \n",
       "1            6          39    2023-10-27   Beauty    217      2.0          39   \n",
       "2            6          39    2023-10-27   Beauty    217      2.0           4   \n",
       "3            6          39    2023-10-27   Beauty    217      2.0          34   \n",
       "4            6          39    2023-10-27   Beauty    217      2.0          17   \n",
       "\n",
       "   time_spent  \n",
       "0         177  \n",
       "1         295  \n",
       "2         251  \n",
       "3         209  \n",
       "4         256  "
      ]
     },
     "execution_count": 33,
     "metadata": {},
     "output_type": "execute_result"
    }
   ],
   "source": [
    "# merge purchase_history dengan product_details pada 'product_id'\n",
    "purchase_details = pd.merge(purchase_history, product_detail, on='product_id', how='left')\n",
    "\n",
    "# Merging hasil purchase_details with customer_interactions pada 'customer_id'\n",
    "full_data = pd.merge(purchase_details, customer_interactions, on='customer_id', how='left')\n",
    "\n",
    "# show data\n",
    "full_data.head()"
   ]
  },
  {
   "cell_type": "code",
   "execution_count": 34,
   "metadata": {},
   "outputs": [],
   "source": [
    "full_data.to_csv(raw_dataset_path + '/data.csv', index=False)"
   ]
  },
  {
   "cell_type": "code",
   "execution_count": 35,
   "metadata": {},
   "outputs": [],
   "source": [
    "def read_data(return_file=True):\n",
    "    # Read data\n",
    "    data = pd.read_csv(raw_dataset_path+ '/data.csv')\n",
    "    # Print data\n",
    "    print('data shape   :', data.shape)\n",
    "\n",
    "    # Dump data\n",
    "    utils.pickle_dump(data, CONFIG_DATA['data_set_path'])\n",
    "\n",
    "    # Return data\n",
    "    if return_file:\n",
    "        return data"
   ]
  },
  {
   "cell_type": "code",
   "execution_count": 15,
   "metadata": {},
   "outputs": [
    {
     "name": "stdout",
     "output_type": "stream",
     "text": [
      "data shape   : (509, 8)\n"
     ]
    },
    {
     "data": {
      "text/html": [
       "<div>\n",
       "<style scoped>\n",
       "    .dataframe tbody tr th:only-of-type {\n",
       "        vertical-align: middle;\n",
       "    }\n",
       "\n",
       "    .dataframe tbody tr th {\n",
       "        vertical-align: top;\n",
       "    }\n",
       "\n",
       "    .dataframe thead th {\n",
       "        text-align: right;\n",
       "    }\n",
       "</style>\n",
       "<table border=\"1\" class=\"dataframe\">\n",
       "  <thead>\n",
       "    <tr style=\"text-align: right;\">\n",
       "      <th></th>\n",
       "      <th>customer_id</th>\n",
       "      <th>product_id</th>\n",
       "      <th>purchase_date</th>\n",
       "      <th>category</th>\n",
       "      <th>price</th>\n",
       "      <th>ratings</th>\n",
       "      <th>page_views</th>\n",
       "      <th>time_spent</th>\n",
       "    </tr>\n",
       "  </thead>\n",
       "  <tbody>\n",
       "    <tr>\n",
       "      <th>0</th>\n",
       "      <td>6</td>\n",
       "      <td>39</td>\n",
       "      <td>2023-10-27</td>\n",
       "      <td>Beauty</td>\n",
       "      <td>217</td>\n",
       "      <td>2.0</td>\n",
       "      <td>27</td>\n",
       "      <td>177</td>\n",
       "    </tr>\n",
       "    <tr>\n",
       "      <th>1</th>\n",
       "      <td>6</td>\n",
       "      <td>39</td>\n",
       "      <td>2023-10-27</td>\n",
       "      <td>Beauty</td>\n",
       "      <td>217</td>\n",
       "      <td>2.0</td>\n",
       "      <td>39</td>\n",
       "      <td>295</td>\n",
       "    </tr>\n",
       "    <tr>\n",
       "      <th>2</th>\n",
       "      <td>6</td>\n",
       "      <td>39</td>\n",
       "      <td>2023-10-27</td>\n",
       "      <td>Beauty</td>\n",
       "      <td>217</td>\n",
       "      <td>2.0</td>\n",
       "      <td>4</td>\n",
       "      <td>251</td>\n",
       "    </tr>\n",
       "    <tr>\n",
       "      <th>3</th>\n",
       "      <td>6</td>\n",
       "      <td>39</td>\n",
       "      <td>2023-10-27</td>\n",
       "      <td>Beauty</td>\n",
       "      <td>217</td>\n",
       "      <td>2.0</td>\n",
       "      <td>34</td>\n",
       "      <td>209</td>\n",
       "    </tr>\n",
       "    <tr>\n",
       "      <th>4</th>\n",
       "      <td>6</td>\n",
       "      <td>39</td>\n",
       "      <td>2023-10-27</td>\n",
       "      <td>Beauty</td>\n",
       "      <td>217</td>\n",
       "      <td>2.0</td>\n",
       "      <td>17</td>\n",
       "      <td>256</td>\n",
       "    </tr>\n",
       "  </tbody>\n",
       "</table>\n",
       "</div>"
      ],
      "text/plain": [
       "   customer_id  product_id purchase_date category  price  ratings  page_views  \\\n",
       "0            6          39    2023-10-27   Beauty    217      2.0          27   \n",
       "1            6          39    2023-10-27   Beauty    217      2.0          39   \n",
       "2            6          39    2023-10-27   Beauty    217      2.0           4   \n",
       "3            6          39    2023-10-27   Beauty    217      2.0          34   \n",
       "4            6          39    2023-10-27   Beauty    217      2.0          17   \n",
       "\n",
       "   time_spent  \n",
       "0         177  \n",
       "1         295  \n",
       "2         251  \n",
       "3         209  \n",
       "4         256  "
      ]
     },
     "execution_count": 15,
     "metadata": {},
     "output_type": "execute_result"
    }
   ],
   "source": [
    "data = read_data()\n",
    "data.head()"
   ]
  },
  {
   "cell_type": "markdown",
   "metadata": {},
   "source": [
    "## Data Splitting"
   ]
  },
  {
   "cell_type": "code",
   "execution_count": 17,
   "metadata": {},
   "outputs": [
    {
     "data": {
      "text/plain": [
       "'data/output/data.pkl'"
      ]
     },
     "execution_count": 17,
     "metadata": {},
     "output_type": "execute_result"
    }
   ],
   "source": [
    "CONFIG_DATA['data_set_path']"
   ]
  },
  {
   "cell_type": "code",
   "execution_count": 18,
   "metadata": {},
   "outputs": [],
   "source": [
    "def split_input_output(return_file=True):\n",
    "    # Read data\n",
    "    data = utils.pickle_load(CONFIG_DATA['data_set_path'])\n",
    "\n",
    "    # Split input & output\n",
    "    y = data[CONFIG_DATA['output_column']]\n",
    "    X = data.drop([CONFIG_DATA['output_column']], axis=1)\n",
    "\n",
    "    # Print splitting\n",
    "    print('Input shape  :', X.shape)\n",
    "    print('Output shape :', y.shape)\n",
    "    print('Input NAN    :')\n",
    "    print(X.isnull().sum())\n",
    "    print('Benchmark    :')\n",
    "    print(y.value_counts(normalize=True))\n",
    "    \n",
    "    # Dump file\n",
    "    utils.pickle_dump(X, CONFIG_DATA['input_set_path'])\n",
    "    utils.pickle_dump(y, CONFIG_DATA['output_set_path'])\n",
    "    utils.pickle_dump(X.columns, CONFIG_DATA['input_columns_path'])     # dump input columns\n",
    "\n",
    "    if return_file:\n",
    "        return X, y"
   ]
  },
  {
   "cell_type": "code",
   "execution_count": 19,
   "metadata": {},
   "outputs": [
    {
     "name": "stdout",
     "output_type": "stream",
     "text": [
      "Input shape  : (509, 7)\n",
      "Output shape : (509,)\n",
      "Input NAN    :\n",
      "customer_id      0\n",
      "purchase_date    0\n",
      "category         0\n",
      "price            0\n",
      "ratings          0\n",
      "page_views       0\n",
      "time_spent       0\n",
      "dtype: int64\n",
      "Benchmark    :\n",
      "product_id\n",
      "74     0.047151\n",
      "70     0.037328\n",
      "103    0.035363\n",
      "24     0.035363\n",
      "57     0.035363\n",
      "         ...   \n",
      "27     0.005894\n",
      "61     0.005894\n",
      "35     0.001965\n",
      "44     0.001965\n",
      "34     0.001965\n",
      "Name: proportion, Length: 63, dtype: float64\n"
     ]
    }
   ],
   "source": [
    "X, y = split_input_output()"
   ]
  },
  {
   "cell_type": "code",
   "execution_count": 20,
   "metadata": {},
   "outputs": [
    {
     "data": {
      "text/plain": [
       "'data/output/input.pkl'"
      ]
     },
     "execution_count": 20,
     "metadata": {},
     "output_type": "execute_result"
    }
   ],
   "source": [
    "CONFIG_DATA['input_set_path']"
   ]
  },
  {
   "cell_type": "code",
   "execution_count": 21,
   "metadata": {},
   "outputs": [
    {
     "data": {
      "text/plain": [
       "0.2"
      ]
     },
     "execution_count": 21,
     "metadata": {},
     "output_type": "execute_result"
    }
   ],
   "source": [
    "CONFIG_DATA['test_size']"
   ]
  },
  {
   "cell_type": "code",
   "execution_count": 22,
   "metadata": {},
   "outputs": [],
   "source": [
    "def split_train_test(return_file=True):\n",
    "    # Load data\n",
    "    X = utils.pickle_load(CONFIG_DATA['input_set_path'])\n",
    "    y = utils.pickle_load(CONFIG_DATA['output_set_path'])\n",
    "\n",
    "    # Split test & rest (train & valid)\n",
    "    X_train, X_test, y_train, y_test = train_test_split( \n",
    "                                            X,\n",
    "                                            y,\n",
    "                                            test_size = CONFIG_DATA['test_size'],\n",
    "                                            random_state = CONFIG_DATA['seed']\n",
    "                                        )\n",
    "    \n",
    "    # Split train & valid\n",
    "    X_train, X_valid, y_train, y_valid = train_test_split(\n",
    "                                            X_train,\n",
    "                                            y_train,\n",
    "                                            test_size = CONFIG_DATA['test_size'],\n",
    "                                            random_state = CONFIG_DATA['seed']\n",
    "                                        )\n",
    "    \n",
    "    # Print splitting\n",
    "    print('X_train shape :', X_train.shape)\n",
    "    print('y_train shape :', y_train.shape)\n",
    "    print('X_valid shape  :', X_valid.shape)\n",
    "    print('y_valid shape  :', y_valid.shape)\n",
    "    print('X_test shape  :', X_test.shape)\n",
    "    print('y_test shape  :', y_test.shape)\n",
    "\n",
    "    # Dump file\n",
    "    utils.pickle_dump(X_train, CONFIG_DATA['train_set_path'][0])\n",
    "    utils.pickle_dump(y_train, CONFIG_DATA['train_set_path'][1])\n",
    "    utils.pickle_dump(X_valid, CONFIG_DATA['valid_set_path'][0])\n",
    "    utils.pickle_dump(y_valid, CONFIG_DATA['valid_set_path'][1])\n",
    "    utils.pickle_dump(X_test, CONFIG_DATA['test_set_path'][0])\n",
    "    utils.pickle_dump(y_test, CONFIG_DATA['test_set_path'][1])\n",
    "\n",
    "    if return_file:\n",
    "        return X_train, X_valid, X_test, y_train, y_valid, y_test"
   ]
  },
  {
   "cell_type": "code",
   "execution_count": 23,
   "metadata": {},
   "outputs": [
    {
     "name": "stdout",
     "output_type": "stream",
     "text": [
      "X_train shape : (325, 7)\n",
      "y_train shape : (325,)\n",
      "X_valid shape  : (82, 7)\n",
      "y_valid shape  : (82,)\n",
      "X_test shape  : (102, 7)\n",
      "y_test shape  : (102,)\n"
     ]
    }
   ],
   "source": [
    "X_train, X_valid, X_test, y_train, y_valid, y_test = split_train_test()"
   ]
  },
  {
   "cell_type": "markdown",
   "metadata": {},
   "source": [
    "Get sample testing"
   ]
  },
  {
   "cell_type": "code",
   "execution_count": 24,
   "metadata": {},
   "outputs": [],
   "source": [
    "import numpy as np"
   ]
  },
  {
   "cell_type": "code",
   "execution_count": 25,
   "metadata": {},
   "outputs": [
    {
     "ename": "ValueError",
     "evalue": "Cannot take a larger sample than population when 'replace=False'",
     "output_type": "error",
     "traceback": [
      "\u001b[1;31m---------------------------------------------------------------------------\u001b[0m",
      "\u001b[1;31mValueError\u001b[0m                                Traceback (most recent call last)",
      "Cell \u001b[1;32mIn[25], line 2\u001b[0m\n\u001b[0;32m      1\u001b[0m np\u001b[38;5;241m.\u001b[39mrandom\u001b[38;5;241m.\u001b[39mseed(\u001b[38;5;241m123\u001b[39m)\n\u001b[1;32m----> 2\u001b[0m y_sample_1 \u001b[38;5;241m=\u001b[39m \u001b[43my_test\u001b[49m\u001b[43m[\u001b[49m\u001b[43my_test\u001b[49m\u001b[38;5;241;43m==\u001b[39;49m\u001b[38;5;241;43m101\u001b[39;49m\u001b[43m]\u001b[49m\u001b[38;5;241;43m.\u001b[39;49m\u001b[43msample\u001b[49m\u001b[43m(\u001b[49m\u001b[38;5;241;43m10\u001b[39;49m\u001b[43m)\u001b[49m\n\u001b[0;32m      3\u001b[0m y_sample_2 \u001b[38;5;241m=\u001b[39m y_test[y_test\u001b[38;5;241m==\u001b[39m\u001b[38;5;241m102\u001b[39m]\u001b[38;5;241m.\u001b[39msample(\u001b[38;5;241m10\u001b[39m)\n\u001b[0;32m      4\u001b[0m y_sample_3 \u001b[38;5;241m=\u001b[39m y_test[y_test\u001b[38;5;241m==\u001b[39m\u001b[38;5;241m103\u001b[39m]\u001b[38;5;241m.\u001b[39msample(\u001b[38;5;241m10\u001b[39m)\n",
      "File \u001b[1;32mc:\\Users\\dtsre\\miniconda3\\envs\\global\\lib\\site-packages\\pandas\\core\\generic.py:5858\u001b[0m, in \u001b[0;36mNDFrame.sample\u001b[1;34m(self, n, frac, replace, weights, random_state, axis, ignore_index)\u001b[0m\n\u001b[0;32m   5855\u001b[0m \u001b[38;5;28;01mif\u001b[39;00m weights \u001b[38;5;129;01mis\u001b[39;00m \u001b[38;5;129;01mnot\u001b[39;00m \u001b[38;5;28;01mNone\u001b[39;00m:\n\u001b[0;32m   5856\u001b[0m     weights \u001b[38;5;241m=\u001b[39m sample\u001b[38;5;241m.\u001b[39mpreprocess_weights(\u001b[38;5;28mself\u001b[39m, weights, axis)\n\u001b[1;32m-> 5858\u001b[0m sampled_indices \u001b[38;5;241m=\u001b[39m \u001b[43msample\u001b[49m\u001b[38;5;241;43m.\u001b[39;49m\u001b[43msample\u001b[49m\u001b[43m(\u001b[49m\u001b[43mobj_len\u001b[49m\u001b[43m,\u001b[49m\u001b[43m \u001b[49m\u001b[43msize\u001b[49m\u001b[43m,\u001b[49m\u001b[43m \u001b[49m\u001b[43mreplace\u001b[49m\u001b[43m,\u001b[49m\u001b[43m \u001b[49m\u001b[43mweights\u001b[49m\u001b[43m,\u001b[49m\u001b[43m \u001b[49m\u001b[43mrs\u001b[49m\u001b[43m)\u001b[49m\n\u001b[0;32m   5859\u001b[0m result \u001b[38;5;241m=\u001b[39m \u001b[38;5;28mself\u001b[39m\u001b[38;5;241m.\u001b[39mtake(sampled_indices, axis\u001b[38;5;241m=\u001b[39maxis)\n\u001b[0;32m   5861\u001b[0m \u001b[38;5;28;01mif\u001b[39;00m ignore_index:\n",
      "File \u001b[1;32mc:\\Users\\dtsre\\miniconda3\\envs\\global\\lib\\site-packages\\pandas\\core\\sample.py:151\u001b[0m, in \u001b[0;36msample\u001b[1;34m(obj_len, size, replace, weights, random_state)\u001b[0m\n\u001b[0;32m    148\u001b[0m     \u001b[38;5;28;01melse\u001b[39;00m:\n\u001b[0;32m    149\u001b[0m         \u001b[38;5;28;01mraise\u001b[39;00m \u001b[38;5;167;01mValueError\u001b[39;00m(\u001b[38;5;124m\"\u001b[39m\u001b[38;5;124mInvalid weights: weights sum to zero\u001b[39m\u001b[38;5;124m\"\u001b[39m)\n\u001b[1;32m--> 151\u001b[0m \u001b[38;5;28;01mreturn\u001b[39;00m \u001b[43mrandom_state\u001b[49m\u001b[38;5;241;43m.\u001b[39;49m\u001b[43mchoice\u001b[49m\u001b[43m(\u001b[49m\u001b[43mobj_len\u001b[49m\u001b[43m,\u001b[49m\u001b[43m \u001b[49m\u001b[43msize\u001b[49m\u001b[38;5;241;43m=\u001b[39;49m\u001b[43msize\u001b[49m\u001b[43m,\u001b[49m\u001b[43m \u001b[49m\u001b[43mreplace\u001b[49m\u001b[38;5;241;43m=\u001b[39;49m\u001b[43mreplace\u001b[49m\u001b[43m,\u001b[49m\u001b[43m \u001b[49m\u001b[43mp\u001b[49m\u001b[38;5;241;43m=\u001b[39;49m\u001b[43mweights\u001b[49m\u001b[43m)\u001b[49m\u001b[38;5;241m.\u001b[39mastype(\n\u001b[0;32m    152\u001b[0m     np\u001b[38;5;241m.\u001b[39mintp, copy\u001b[38;5;241m=\u001b[39m\u001b[38;5;28;01mFalse\u001b[39;00m\n\u001b[0;32m    153\u001b[0m )\n",
      "File \u001b[1;32mmtrand.pyx:965\u001b[0m, in \u001b[0;36mnumpy.random.mtrand.RandomState.choice\u001b[1;34m()\u001b[0m\n",
      "\u001b[1;31mValueError\u001b[0m: Cannot take a larger sample than population when 'replace=False'"
     ]
    }
   ],
   "source": [
    "np.random.seed(123)\n",
    "y_sample_1 = y_test[y_test==101].sample(10)\n",
    "y_sample_2 = y_test[y_test==102].sample(10)\n",
    "y_sample_3 = y_test[y_test==103].sample(10)\n",
    "y_sample_4 = y_test[y_test==104].sample(10)\n",
    "y_sample_5 = y_test[y_test==105].sample(10)\n",
    "\n",
    "y_sample = pd.concat((y_sample_1, y_sample_2, y_sample_3, y_sample_4, y_sample_5), axis=0)\n",
    "y_sample"
   ]
  },
  {
   "cell_type": "code",
   "execution_count": null,
   "metadata": {},
   "outputs": [],
   "source": [
    "X_sample = X_test.loc[y_sample.index]\n",
    "X_sample"
   ]
  },
  {
   "cell_type": "code",
   "execution_count": null,
   "metadata": {},
   "outputs": [],
   "source": [
    "X_sample.to_csv('data/output/X_sample.csv', index=False)"
   ]
  },
  {
   "cell_type": "code",
   "execution_count": null,
   "metadata": {},
   "outputs": [],
   "source": [
    "y_sample.to_csv('data/output/y_sample.csv', index=False)"
   ]
  }
 ],
 "metadata": {
  "kernelspec": {
   "display_name": "global",
   "language": "python",
   "name": "python3"
  },
  "language_info": {
   "codemirror_mode": {
    "name": "ipython",
    "version": 3
   },
   "file_extension": ".py",
   "mimetype": "text/x-python",
   "name": "python",
   "nbconvert_exporter": "python",
   "pygments_lexer": "ipython3",
   "version": "3.9.18"
  }
 },
 "nbformat": 4,
 "nbformat_minor": 2
}
