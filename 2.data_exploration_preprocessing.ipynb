{
 "cells": [
  {
   "cell_type": "code",
   "execution_count": 1,
   "metadata": {},
   "outputs": [],
   "source": [
    "import pandas as pd\n",
    "import src.utils as utils\n",
    "import os\n",
    "from faker import Faker\n",
    "\n",
    "from sklearn.model_selection import train_test_split"
   ]
  },
  {
   "cell_type": "markdown",
   "metadata": {},
   "source": [
    "# Load config file"
   ]
  },
  {
   "cell_type": "code",
   "execution_count": 2,
   "metadata": {},
   "outputs": [
    {
     "data": {
      "text/plain": [
       "{'raw_dataset_path': 'data/raw',\n",
       " 'data_set_path': 'data/output/data.pkl',\n",
       " 'input_set_path': 'data/output/input.pkl',\n",
       " 'output_set_path': 'data/output/output.pkl',\n",
       " 'input_columns_path': 'data/output/input_columns.pkl',\n",
       " 'train_set_path': ['data/output/X_train.pkl', 'data/output/y_train.pkl'],\n",
       " 'valid_set_path': ['data/output/X_valid.pkl', 'data/output/y_valid.pkl'],\n",
       " 'test_set_path': ['data/output/X_test.pkl', 'data/output/y_test.pkl'],\n",
       " 'output_column': 'product_id',\n",
       " 'seed': 42,\n",
       " 'test_size': 0.2,\n",
       " 'standardizer_path': 'data/output/standardizer.pkl',\n",
       " 'preprocessor_path': 'data/output/preprocessor.pkl',\n",
       " 'train_clean_path': ['data/output/X_train_clean.pkl',\n",
       "  'data/output/y_train_clean.pkl'],\n",
       " 'valid_clean_path': ['data/output/X_valid_clean.pkl',\n",
       "  'data/output/y_valid_clean.pkl'],\n",
       " 'test_clean_path': ['data/output/X_test_clean.pkl',\n",
       "  'data/output/y_test_clean.pkl'],\n",
       " 'list_of_model_path': 'log/list_of_model.pkl',\n",
       " 'list_of_param_path': 'log/list_of_param.pkl',\n",
       " 'list_of_tuned_model_path': 'log/list_of_tuned_model.pkl',\n",
       " 'best_model_path': 'models/best_model.pkl',\n",
       " 'best_threshold_path': 'models/best_threshold.pkl'}"
      ]
     },
     "execution_count": 2,
     "metadata": {},
     "output_type": "execute_result"
    }
   ],
   "source": [
    "CONFIG_DATA = utils.config_load()\n",
    "CONFIG_DATA"
   ]
  },
  {
   "cell_type": "markdown",
   "metadata": {},
   "source": [
    "## Load Data"
   ]
  },
  {
   "cell_type": "code",
   "execution_count": 3,
   "metadata": {},
   "outputs": [
    {
     "data": {
      "text/plain": [
       "'data/output/X_train.pkl'"
      ]
     },
     "execution_count": 3,
     "metadata": {},
     "output_type": "execute_result"
    }
   ],
   "source": [
    "CONFIG_DATA['train_set_path'][0]"
   ]
  },
  {
   "cell_type": "code",
   "execution_count": 4,
   "metadata": {},
   "outputs": [
    {
     "name": "stdout",
     "output_type": "stream",
     "text": [
      "X_train shape: (216, 7)\n",
      "y_train shape: (216,)\n"
     ]
    }
   ],
   "source": [
    "X_train = utils.pickle_load(CONFIG_DATA['train_set_path'][0])\n",
    "y_train = utils.pickle_load(CONFIG_DATA['train_set_path'][1])\n",
    "\n",
    "print('X_train shape:', X_train.shape)\n",
    "print('y_train shape:', y_train.shape)"
   ]
  },
  {
   "cell_type": "code",
   "execution_count": 5,
   "metadata": {},
   "outputs": [
    {
     "data": {
      "text/html": [
       "<div>\n",
       "<style scoped>\n",
       "    .dataframe tbody tr th:only-of-type {\n",
       "        vertical-align: middle;\n",
       "    }\n",
       "\n",
       "    .dataframe tbody tr th {\n",
       "        vertical-align: top;\n",
       "    }\n",
       "\n",
       "    .dataframe thead th {\n",
       "        text-align: right;\n",
       "    }\n",
       "</style>\n",
       "<table border=\"1\" class=\"dataframe\">\n",
       "  <thead>\n",
       "    <tr style=\"text-align: right;\">\n",
       "      <th></th>\n",
       "      <th>customer_id</th>\n",
       "      <th>purchase_date</th>\n",
       "      <th>category</th>\n",
       "      <th>price</th>\n",
       "      <th>ratings</th>\n",
       "      <th>page_views</th>\n",
       "      <th>time_spent</th>\n",
       "      <th>product_id</th>\n",
       "    </tr>\n",
       "  </thead>\n",
       "  <tbody>\n",
       "    <tr>\n",
       "      <th>140</th>\n",
       "      <td>20</td>\n",
       "      <td>2024-03-30</td>\n",
       "      <td>NaN</td>\n",
       "      <td>NaN</td>\n",
       "      <td>NaN</td>\n",
       "      <td>33.0</td>\n",
       "      <td>57.0</td>\n",
       "      <td>101</td>\n",
       "    </tr>\n",
       "    <tr>\n",
       "      <th>303</th>\n",
       "      <td>19</td>\n",
       "      <td>2024-04-12</td>\n",
       "      <td>NaN</td>\n",
       "      <td>NaN</td>\n",
       "      <td>NaN</td>\n",
       "      <td>32.0</td>\n",
       "      <td>290.0</td>\n",
       "      <td>193</td>\n",
       "    </tr>\n",
       "    <tr>\n",
       "      <th>245</th>\n",
       "      <td>13</td>\n",
       "      <td>2023-05-13</td>\n",
       "      <td>NaN</td>\n",
       "      <td>NaN</td>\n",
       "      <td>NaN</td>\n",
       "      <td>11.0</td>\n",
       "      <td>203.0</td>\n",
       "      <td>137</td>\n",
       "    </tr>\n",
       "    <tr>\n",
       "      <th>14</th>\n",
       "      <td>30</td>\n",
       "      <td>2023-12-16</td>\n",
       "      <td>Beauty</td>\n",
       "      <td>123.0</td>\n",
       "      <td>3.9</td>\n",
       "      <td>NaN</td>\n",
       "      <td>NaN</td>\n",
       "      <td>157</td>\n",
       "    </tr>\n",
       "    <tr>\n",
       "      <th>234</th>\n",
       "      <td>5</td>\n",
       "      <td>2023-09-26</td>\n",
       "      <td>Clothing</td>\n",
       "      <td>781.0</td>\n",
       "      <td>4.2</td>\n",
       "      <td>24.0</td>\n",
       "      <td>62.0</td>\n",
       "      <td>191</td>\n",
       "    </tr>\n",
       "  </tbody>\n",
       "</table>\n",
       "</div>"
      ],
      "text/plain": [
       "     customer_id purchase_date  category  price  ratings  page_views  \\\n",
       "140           20    2024-03-30       NaN    NaN      NaN        33.0   \n",
       "303           19    2024-04-12       NaN    NaN      NaN        32.0   \n",
       "245           13    2023-05-13       NaN    NaN      NaN        11.0   \n",
       "14            30    2023-12-16    Beauty  123.0      3.9         NaN   \n",
       "234            5    2023-09-26  Clothing  781.0      4.2        24.0   \n",
       "\n",
       "     time_spent  product_id  \n",
       "140        57.0         101  \n",
       "303       290.0         193  \n",
       "245       203.0         137  \n",
       "14          NaN         157  \n",
       "234        62.0         191  "
      ]
     },
     "execution_count": 5,
     "metadata": {},
     "output_type": "execute_result"
    }
   ],
   "source": [
    "data = pd.concat((X_train, y_train), axis=1)\n",
    "data.head()"
   ]
  },
  {
   "cell_type": "markdown",
   "metadata": {},
   "source": [
    "# EDA"
   ]
  },
  {
   "cell_type": "markdown",
   "metadata": {},
   "source": [
    "cek data types"
   ]
  },
  {
   "cell_type": "code",
   "execution_count": 6,
   "metadata": {},
   "outputs": [
    {
     "data": {
      "text/plain": [
       "customer_id        int64\n",
       "purchase_date     object\n",
       "category          object\n",
       "price            float64\n",
       "ratings          float64\n",
       "page_views       float64\n",
       "time_spent       float64\n",
       "product_id         int64\n",
       "dtype: object"
      ]
     },
     "execution_count": 6,
     "metadata": {},
     "output_type": "execute_result"
    }
   ],
   "source": [
    "data.dtypes"
   ]
  },
  {
   "cell_type": "code",
   "execution_count": 7,
   "metadata": {},
   "outputs": [
    {
     "data": {
      "text/plain": [
       "customer_id       0\n",
       "purchase_date     0\n",
       "category         54\n",
       "price            54\n",
       "ratings          54\n",
       "page_views       54\n",
       "time_spent       54\n",
       "product_id        0\n",
       "dtype: int64"
      ]
     },
     "execution_count": 7,
     "metadata": {},
     "output_type": "execute_result"
    }
   ],
   "source": [
    "# cek missing values\n",
    "data.isna().sum()"
   ]
  },
  {
   "cell_type": "code",
   "execution_count": 8,
   "metadata": {},
   "outputs": [
    {
     "data": {
      "text/plain": [
       "270"
      ]
     },
     "execution_count": 8,
     "metadata": {},
     "output_type": "execute_result"
    }
   ],
   "source": [
    "data.isna().sum().sum()"
   ]
  },
  {
   "cell_type": "code",
   "execution_count": 9,
   "metadata": {},
   "outputs": [
    {
     "data": {
      "image/png": "[encoded data removed]",
      "text/plain": [
       "<Figure size 1200x600 with 2 Axes>"
      ]
     },
     "metadata": {},
     "output_type": "display_data"
    }
   ],
   "source": [
    "import matplotlib.pyplot as plt\n",
    "import seaborn as sns\n",
    "\n",
    "plt.figure(figsize=(12, 6))\n",
    "\n",
    "# Correlation matrix customer_interactions dan product_details\n",
    "correlation_matrix = data[['page_views', 'time_spent', 'price', 'ratings']].corr()\n",
    "\n",
    "# show heatmap\n",
    "sns.heatmap(correlation_matrix, annot=True, cmap='coolwarm', fmt=\".2f\")\n",
    "plt.title('Correlation Matrix of Customer Interactions and Product Details')\n",
    "plt.show()\n"
   ]
  },
  {
   "cell_type": "markdown",
   "metadata": {},
   "source": [
    "- page_views dan time_spent: Ada korelasi positif, yang menunjukkan bahwa user yang melihat lebih banyak halaman cenderung menghabiskan lebih banyak waktu di situs. Hal ini menunjukkan bahwa konten yang menarik berpotensi meningkatkan waktu penelusuran.\n",
    "\n",
    "- page_views dan price: Terdapat korelasi yang negatiif, yang menunjukkan bahwa variabel tersebut sangat lemah atau bahkan tidak ada hubungan linear yang signifikan di antara keduanya. Peningkatan atau penurunan jumlah page_views tidak berdampak secara konsisten pada price, dan sebaliknya.\n",
    "\n",
    "- time_spent dan price: time_spent yang dihabiskan di situs menunjukkan korelasi yang lemah dengan harga produk yang dibeli.\n",
    "\n",
    "- ratings: page_views dan spent_time korelasinya sangat lemah dengan ratings, yang mungkin menunjukkan bahwa keputusan user untuk melihat halaman atau spent_time tidak terlalu dipengaruhi oleh peringkat produk.\n",
    "\n",
    "note: korelasi mendekati 1 menunjukkan korelasi positif. Korelasi mendekati -1 menunjukkan tidak adanya hubungan linear antara dua variabel."
   ]
  },
  {
   "cell_type": "markdown",
   "metadata": {},
   "source": [
    "### Cek produk kategori yang populer dan pola pembeliannya"
   ]
  },
  {
   "cell_type": "code",
   "execution_count": 10,
   "metadata": {},
   "outputs": [
    {
     "data": {
      "image/png": "[encoded data removed]",
      "text/plain": [
       "<Figure size 1400x600 with 2 Axes>"
      ]
     },
     "metadata": {},
     "output_type": "display_data"
    }
   ],
   "source": [
    "# Grouping data\n",
    "category_analysis = data.groupby('category').agg(\n",
    "    Sales_Volume=('product_id', 'count'),\n",
    "    Average_Price=('price', 'mean'),\n",
    "    Average_Ratings=('ratings', 'mean')\n",
    ").sort_values(by='Sales_Volume', ascending=False)\n",
    "\n",
    "\n",
    "fig, ax1 = plt.subplots(figsize=(14, 6))\n",
    "\n",
    "# plot sales volume\n",
    "color = 'tab:blue'\n",
    "ax1.set_xlabel('Category')\n",
    "ax1.set_ylabel('Volume penjualan', color=color)\n",
    "ax1.bar(category_analysis.index, category_analysis['Sales_Volume'], color=color)\n",
    "ax1.tick_params(axis='y', labelcolor=color)\n",
    "\n",
    "# plot twin axis untuk rata2 ratings\n",
    "ax2 = ax1.twinx()\n",
    "color = 'tab:red'\n",
    "ax2.set_ylabel('Rata-rata ratings', color=color)\n",
    "ax2.plot(category_analysis.index, category_analysis['Average_Ratings'], color=color, marker='o')\n",
    "ax2.tick_params(axis='y', labelcolor=color)\n",
    "\n",
    "plt.title('Volume Penjualan dan Rata-Rata Ratings berdasarkan Kategori Produk')\n",
    "plt.show()\n"
   ]
  },
  {
   "cell_type": "code",
   "execution_count": 11,
   "metadata": {},
   "outputs": [
    {
     "data": {
      "text/plain": [
       "ratings\n",
       "3.7    14\n",
       "1.3    14\n",
       "3.4    12\n",
       "1.1    11\n",
       "1.2    10\n",
       "2.0     8\n",
       "4.2     8\n",
       "2.6     7\n",
       "2.7     6\n",
       "2.8     6\n",
       "3.9     5\n",
       "1.8     5\n",
       "4.0     5\n",
       "2.3     5\n",
       "4.7     5\n",
       "5.0     4\n",
       "4.1     4\n",
       "4.6     3\n",
       "4.4     3\n",
       "3.6     3\n",
       "2.2     3\n",
       "1.4     3\n",
       "3.8     3\n",
       "4.8     3\n",
       "1.6     3\n",
       "2.4     2\n",
       "1.7     2\n",
       "3.0     1\n",
       "1.5     1\n",
       "2.9     1\n",
       "1.9     1\n",
       "3.2     1\n",
       "Name: count, dtype: int64"
      ]
     },
     "execution_count": 11,
     "metadata": {},
     "output_type": "execute_result"
    }
   ],
   "source": [
    "data['ratings'].value_counts()"
   ]
  },
  {
   "cell_type": "markdown",
   "metadata": {},
   "source": [
    "Karna ini pakai data dummy jadi seperti ada anomali, dimana kategori yang punya volume penjualan terbanyak malah memiliki rata2 rating paling kecil.\n",
    "Pada real case nya rata2 rating mempengaruhi keputusan pembelian\n",
    "\n",
    "**Insight**\n",
    "1. Category performance: Kategori dengan penjualan lebih tinggi dan rating yang lebih baik mungkin diprioritaskan untuk keputusan dilakukan promosi. Sebaliknya, kategori dengan penjualan dan peringkat lebih rendah mungkin memerlukan penyesuaian pemasaran atau peningkatan kualitas produk.\n",
    "\n",
    "2. Strategi pemasaran: Memahami kategori mana yang punya kinerja baik dalam hal penjualan dan kepuasan pelanggan busa membantu menyesuaikan strategi pemasaran."
   ]
  },
  {
   "cell_type": "markdown",
   "metadata": {},
   "source": [
    "### Tren Analysis"
   ]
  },
  {
   "cell_type": "code",
   "execution_count": 12,
   "metadata": {},
   "outputs": [
    {
     "data": {
      "image/png": "[encoded data removed]",
      "text/plain": [
       "<Figure size 1200x600 with 1 Axes>"
      ]
     },
     "metadata": {},
     "output_type": "display_data"
    }
   ],
   "source": [
    "# convert 'purchase_date' jadi datetime dan untuk ekstrak bulan dan tahun\n",
    "data['purchase_date'] = pd.to_datetime(data['purchase_date'])\n",
    "data['year_month'] = data['purchase_date'].dt.to_period('M')\n",
    "\n",
    "# Grouping berdasarkan bulan untuk menghitung penmbelian\n",
    "monthly_sales = data.groupby('year_month').size()\n",
    "\n",
    "# Plotting \n",
    "plt.figure(figsize=(12, 6))\n",
    "monthly_sales.plot(kind='bar')\n",
    "plt.title('Tren Penjulanan Bulanan')\n",
    "plt.xlabel('Bulan')\n",
    "plt.ylabel('Volume Pembelian')\n",
    "plt.xticks(rotation=45)\n",
    "plt.show()\n"
   ]
  },
  {
   "cell_type": "markdown",
   "metadata": {},
   "source": [
    "selama 1 tahun, penujalan paling rendah ada di bulan maret 2024, dan paling tinggi di april 2024"
   ]
  },
  {
   "cell_type": "markdown",
   "metadata": {},
   "source": [
    "### Product Performance analysis"
   ]
  },
  {
   "cell_type": "code",
   "execution_count": 13,
   "metadata": {},
   "outputs": [
    {
     "data": {
      "text/html": [
       "<div>\n",
       "<style scoped>\n",
       "    .dataframe tbody tr th:only-of-type {\n",
       "        vertical-align: middle;\n",
       "    }\n",
       "\n",
       "    .dataframe tbody tr th {\n",
       "        vertical-align: top;\n",
       "    }\n",
       "\n",
       "    .dataframe thead th {\n",
       "        text-align: right;\n",
       "    }\n",
       "</style>\n",
       "<table border=\"1\" class=\"dataframe\">\n",
       "  <thead>\n",
       "    <tr style=\"text-align: right;\">\n",
       "      <th></th>\n",
       "      <th>category</th>\n",
       "      <th>product_id</th>\n",
       "      <th>Sales_Volume</th>\n",
       "      <th>Average_Price</th>\n",
       "      <th>Average_Ratings</th>\n",
       "    </tr>\n",
       "  </thead>\n",
       "  <tbody>\n",
       "    <tr>\n",
       "      <th>0</th>\n",
       "      <td>Home &amp; Kitchen</td>\n",
       "      <td>133</td>\n",
       "      <td>6</td>\n",
       "      <td>973.0</td>\n",
       "      <td>1.3</td>\n",
       "    </tr>\n",
       "    <tr>\n",
       "      <th>1</th>\n",
       "      <td>Home &amp; Kitchen</td>\n",
       "      <td>150</td>\n",
       "      <td>5</td>\n",
       "      <td>923.0</td>\n",
       "      <td>1.8</td>\n",
       "    </tr>\n",
       "    <tr>\n",
       "      <th>2</th>\n",
       "      <td>Home &amp; Kitchen</td>\n",
       "      <td>184</td>\n",
       "      <td>5</td>\n",
       "      <td>996.0</td>\n",
       "      <td>1.1</td>\n",
       "    </tr>\n",
       "    <tr>\n",
       "      <th>3</th>\n",
       "      <td>Home &amp; Kitchen</td>\n",
       "      <td>199</td>\n",
       "      <td>5</td>\n",
       "      <td>182.0</td>\n",
       "      <td>2.7</td>\n",
       "    </tr>\n",
       "    <tr>\n",
       "      <th>4</th>\n",
       "      <td>Home &amp; Kitchen</td>\n",
       "      <td>175</td>\n",
       "      <td>4</td>\n",
       "      <td>487.0</td>\n",
       "      <td>4.2</td>\n",
       "    </tr>\n",
       "    <tr>\n",
       "      <th>5</th>\n",
       "      <td>Home &amp; Kitchen</td>\n",
       "      <td>141</td>\n",
       "      <td>3</td>\n",
       "      <td>864.0</td>\n",
       "      <td>3.8</td>\n",
       "    </tr>\n",
       "    <tr>\n",
       "      <th>6</th>\n",
       "      <td>Home &amp; Kitchen</td>\n",
       "      <td>103</td>\n",
       "      <td>1</td>\n",
       "      <td>579.0</td>\n",
       "      <td>1.6</td>\n",
       "    </tr>\n",
       "    <tr>\n",
       "      <th>7</th>\n",
       "      <td>Home &amp; Kitchen</td>\n",
       "      <td>130</td>\n",
       "      <td>1</td>\n",
       "      <td>34.0</td>\n",
       "      <td>4.6</td>\n",
       "    </tr>\n",
       "    <tr>\n",
       "      <th>8</th>\n",
       "      <td>Home &amp; Kitchen</td>\n",
       "      <td>166</td>\n",
       "      <td>1</td>\n",
       "      <td>910.0</td>\n",
       "      <td>3.2</td>\n",
       "    </tr>\n",
       "    <tr>\n",
       "      <th>9</th>\n",
       "      <td>Home &amp; Kitchen</td>\n",
       "      <td>171</td>\n",
       "      <td>1</td>\n",
       "      <td>252.0</td>\n",
       "      <td>2.2</td>\n",
       "    </tr>\n",
       "  </tbody>\n",
       "</table>\n",
       "</div>"
      ],
      "text/plain": [
       "         category  product_id  Sales_Volume  Average_Price  Average_Ratings\n",
       "0  Home & Kitchen         133             6          973.0              1.3\n",
       "1  Home & Kitchen         150             5          923.0              1.8\n",
       "2  Home & Kitchen         184             5          996.0              1.1\n",
       "3  Home & Kitchen         199             5          182.0              2.7\n",
       "4  Home & Kitchen         175             4          487.0              4.2\n",
       "5  Home & Kitchen         141             3          864.0              3.8\n",
       "6  Home & Kitchen         103             1          579.0              1.6\n",
       "7  Home & Kitchen         130             1           34.0              4.6\n",
       "8  Home & Kitchen         166             1          910.0              3.2\n",
       "9  Home & Kitchen         171             1          252.0              2.2"
      ]
     },
     "execution_count": 13,
     "metadata": {},
     "output_type": "execute_result"
    }
   ],
   "source": [
    "# Asumsi kategori teratas berdasarkan data volume penjualan sebelumnya, mpakai 3 kategori teratas untuk analisis yang lebih detail\n",
    "# identifikasi 3 kategori teratas\n",
    "top_categories = category_analysis.index[:3]\n",
    "\n",
    "# filter data untuk dari ketegori terats\n",
    "top_category_data = data[data['category'].isin(top_categories)]\n",
    "\n",
    "# Grouping data berdasarkan produk dalam kategori teratas untuk menganalisis volume penjualan, harga rata2, dan rata2 rating\n",
    "product_performance = top_category_data.groupby(['category', 'product_id']).agg(\n",
    "    Sales_Volume=('product_id', 'count'),\n",
    "    Average_Price=('price', 'mean'),\n",
    "    Average_Ratings=('ratings', 'mean')\n",
    ").sort_values(by=['category', 'Sales_Volume'], ascending=False)\n",
    "\n",
    "product_performance.reset_index().head(10)  # tampilkan top 10"
   ]
  },
  {
   "cell_type": "markdown",
   "metadata": {},
   "source": [
    "**INSIGHT**\n",
    "1.  Penjualan Tertinggi dan Rating Tertinggi: Electronics 102 dan Electronics 103 menunjukkan kinerja yang baik berdasarkan volume penjualan yang tinggi dan tingkat kepuasan pelanggan.\n",
    "\n",
    "2.   Sensitivitas Harga: Produk dengan harga lebih tinggi seperti Electronics 103 menunjukkan volume penjualan yang lebih rendah, menunjukkan sensitivitas harga dalam kategori ini.\n",
    "\n",
    "3.   Rating: Clothing 105, ini penjualannya paling tinggi, tapi punya rating yang rendah, yang bisa menjadi area untuk perbaikan atau analisis feedback dari pelanggan.\n",
    "\n",
    "**REKOMENDASI**\n",
    "1. Strategi Penetapan Harga: Untuk barang dengan harga tinggi dengan penjualan lebih rendah, bisa dipertimbangkan untuk menyesuaikan harga atau meningkatkan kualitas dan fitur produk untuk meningkatkan rating dan kepuasan pelanggan.\n",
    "\n",
    "2. Meningkatkan Kualitas Produk atau Layanan kepada Pelanggan: Untuk produk dengan rating yang rendah, teliti keluhan atau feedback dari pelanggan untuk meningkatkan kualitas produk.\n",
    "\n",
    "3. Area Fokus Promosi: Produk yang berkinerja baik bisa dijadikan kampanye pemasaran untuk meningkatkan penjualan yang lebih masif."
   ]
  },
  {
   "cell_type": "markdown",
   "metadata": {},
   "source": [
    "## Data Processing\n",
    "1. encode category:"
   ]
  },
  {
   "cell_type": "code",
   "execution_count": 14,
   "metadata": {},
   "outputs": [],
   "source": [
    "def load_dataset(return_file=True):\n",
    "    # Load train data\n",
    "    X_train = utils.pickle_load(CONFIG_DATA['train_set_path'][0])\n",
    "    y_train = utils.pickle_load(CONFIG_DATA['train_set_path'][1])\n",
    "\n",
    "    # Load valid data\n",
    "    X_valid = utils.pickle_load(CONFIG_DATA['valid_set_path'][0])\n",
    "    y_valid = utils.pickle_load(CONFIG_DATA['valid_set_path'][1])\n",
    "\n",
    "    # Load test data\n",
    "    X_test = utils.pickle_load(CONFIG_DATA['test_set_path'][0])\n",
    "    y_test = utils.pickle_load(CONFIG_DATA['test_set_path'][1])\n",
    "\n",
    "    # Print \n",
    "    print(\"X_train shape :\", X_train.shape)\n",
    "    print(\"y_train shape :\", y_train.shape)\n",
    "    print(\"X_valid shape :\", X_valid.shape)\n",
    "    print(\"y_valid shape :\", y_valid.shape)\n",
    "    print(\"X_test shape  :\", X_test.shape)\n",
    "    print(\"y_test shape  :\", y_test.shape)\n",
    "\n",
    "    if return_file:\n",
    "        return X_train, X_valid, X_test, y_train, y_valid, y_test"
   ]
  },
  {
   "cell_type": "code",
   "execution_count": 15,
   "metadata": {},
   "outputs": [
    {
     "name": "stdout",
     "output_type": "stream",
     "text": [
      "X_train shape : (216, 7)\n",
      "y_train shape : (216,)\n",
      "X_valid shape : (55, 7)\n",
      "y_valid shape : (55,)\n",
      "X_test shape  : (68, 7)\n",
      "y_test shape  : (68,)\n"
     ]
    }
   ],
   "source": [
    "X_train, X_valid, X_test, y_train, y_valid, y_test = load_dataset()"
   ]
  },
  {
   "cell_type": "markdown",
   "metadata": {},
   "source": [
    "## Preprocess train\n",
    "scale the data"
   ]
  },
  {
   "cell_type": "code",
   "execution_count": 16,
   "metadata": {},
   "outputs": [],
   "source": [
    "from sklearn.preprocessing import RobustScaler\n",
    "from sklearn.impute import SimpleImputer\n",
    "import pickle\n",
    "\n",
    "\n",
    "def fit_standardize(data, columns=['page_views', 'time_spent', 'price', 'ratings'], return_file=True):\n",
    "    standardizer = RobustScaler()\n",
    "\n",
    "    # Fit standardizer on the provided columns\n",
    "    standardizer.fit(data[columns])\n",
    "    \n",
    "    # Dump standardizer\n",
    "    utils.pickle_dump(standardizer, CONFIG_DATA['standardizer_path'])\n",
    "    \n",
    "    if return_file:\n",
    "        return standardizer"
   ]
  },
  {
   "cell_type": "code",
   "execution_count": 17,
   "metadata": {},
   "outputs": [
    {
     "ename": "KeyError",
     "evalue": "'product_id'",
     "output_type": "error",
     "traceback": [
      "\u001b[1;31m---------------------------------------------------------------------------\u001b[0m",
      "\u001b[1;31mKeyError\u001b[0m                                  Traceback (most recent call last)",
      "File \u001b[1;32mc:\\Users\\dtsre\\miniconda3\\envs\\global\\lib\\site-packages\\pandas\\core\\indexes\\base.py:3652\u001b[0m, in \u001b[0;36mIndex.get_loc\u001b[1;34m(self, key)\u001b[0m\n\u001b[0;32m   3651\u001b[0m \u001b[38;5;28;01mtry\u001b[39;00m:\n\u001b[1;32m-> 3652\u001b[0m     \u001b[38;5;28;01mreturn\u001b[39;00m \u001b[38;5;28;43mself\u001b[39;49m\u001b[38;5;241;43m.\u001b[39;49m\u001b[43m_engine\u001b[49m\u001b[38;5;241;43m.\u001b[39;49m\u001b[43mget_loc\u001b[49m\u001b[43m(\u001b[49m\u001b[43mcasted_key\u001b[49m\u001b[43m)\u001b[49m\n\u001b[0;32m   3653\u001b[0m \u001b[38;5;28;01mexcept\u001b[39;00m \u001b[38;5;167;01mKeyError\u001b[39;00m \u001b[38;5;28;01mas\u001b[39;00m err:\n",
      "File \u001b[1;32mc:\\Users\\dtsre\\miniconda3\\envs\\global\\lib\\site-packages\\pandas\\_libs\\index.pyx:147\u001b[0m, in \u001b[0;36mpandas._libs.index.IndexEngine.get_loc\u001b[1;34m()\u001b[0m\n",
      "File \u001b[1;32mc:\\Users\\dtsre\\miniconda3\\envs\\global\\lib\\site-packages\\pandas\\_libs\\index.pyx:176\u001b[0m, in \u001b[0;36mpandas._libs.index.IndexEngine.get_loc\u001b[1;34m()\u001b[0m\n",
      "File \u001b[1;32mpandas\\_libs\\hashtable_class_helper.pxi:7080\u001b[0m, in \u001b[0;36mpandas._libs.hashtable.PyObjectHashTable.get_item\u001b[1;34m()\u001b[0m\n",
      "File \u001b[1;32mpandas\\_libs\\hashtable_class_helper.pxi:7088\u001b[0m, in \u001b[0;36mpandas._libs.hashtable.PyObjectHashTable.get_item\u001b[1;34m()\u001b[0m\n",
      "\u001b[1;31mKeyError\u001b[0m: 'product_id'",
      "\nThe above exception was the direct cause of the following exception:\n",
      "\u001b[1;31mKeyError\u001b[0m                                  Traceback (most recent call last)",
      "Cell \u001b[1;32mIn[17], line 7\u001b[0m\n\u001b[0;32m      5\u001b[0m X_train[\u001b[38;5;124m'\u001b[39m\u001b[38;5;124mcategory_encoded\u001b[39m\u001b[38;5;124m'\u001b[39m] \u001b[38;5;241m=\u001b[39m encoder\u001b[38;5;241m.\u001b[39mfit_transform(X_train[\u001b[38;5;124m'\u001b[39m\u001b[38;5;124mcategory\u001b[39m\u001b[38;5;124m'\u001b[39m])\n\u001b[0;32m      6\u001b[0m X_test[\u001b[38;5;124m'\u001b[39m\u001b[38;5;124mcategory_encoded\u001b[39m\u001b[38;5;124m'\u001b[39m] \u001b[38;5;241m=\u001b[39m encoder\u001b[38;5;241m.\u001b[39mfit_transform(X_test[\u001b[38;5;124m'\u001b[39m\u001b[38;5;124mcategory\u001b[39m\u001b[38;5;124m'\u001b[39m])\n\u001b[1;32m----> 7\u001b[0m X_train[\u001b[38;5;124m'\u001b[39m\u001b[38;5;124mproduct_id_encoded\u001b[39m\u001b[38;5;124m'\u001b[39m] \u001b[38;5;241m=\u001b[39m encoder\u001b[38;5;241m.\u001b[39mfit_transform(\u001b[43mX_train\u001b[49m\u001b[43m[\u001b[49m\u001b[38;5;124;43m'\u001b[39;49m\u001b[38;5;124;43mproduct_id\u001b[39;49m\u001b[38;5;124;43m'\u001b[39;49m\u001b[43m]\u001b[49m)\n\u001b[0;32m      8\u001b[0m X_test[\u001b[38;5;124m'\u001b[39m\u001b[38;5;124mproduct_id_encoded\u001b[39m\u001b[38;5;124m'\u001b[39m] \u001b[38;5;241m=\u001b[39m encoder\u001b[38;5;241m.\u001b[39mfit_transform(X_test[\u001b[38;5;124m'\u001b[39m\u001b[38;5;124mproduct_id\u001b[39m\u001b[38;5;124m'\u001b[39m])\n\u001b[0;32m     10\u001b[0m standardizer \u001b[38;5;241m=\u001b[39m fit_standardize(data\u001b[38;5;241m=\u001b[39mX_train)\n",
      "File \u001b[1;32mc:\\Users\\dtsre\\miniconda3\\envs\\global\\lib\\site-packages\\pandas\\core\\frame.py:3761\u001b[0m, in \u001b[0;36mDataFrame.__getitem__\u001b[1;34m(self, key)\u001b[0m\n\u001b[0;32m   3759\u001b[0m \u001b[38;5;28;01mif\u001b[39;00m \u001b[38;5;28mself\u001b[39m\u001b[38;5;241m.\u001b[39mcolumns\u001b[38;5;241m.\u001b[39mnlevels \u001b[38;5;241m>\u001b[39m \u001b[38;5;241m1\u001b[39m:\n\u001b[0;32m   3760\u001b[0m     \u001b[38;5;28;01mreturn\u001b[39;00m \u001b[38;5;28mself\u001b[39m\u001b[38;5;241m.\u001b[39m_getitem_multilevel(key)\n\u001b[1;32m-> 3761\u001b[0m indexer \u001b[38;5;241m=\u001b[39m \u001b[38;5;28;43mself\u001b[39;49m\u001b[38;5;241;43m.\u001b[39;49m\u001b[43mcolumns\u001b[49m\u001b[38;5;241;43m.\u001b[39;49m\u001b[43mget_loc\u001b[49m\u001b[43m(\u001b[49m\u001b[43mkey\u001b[49m\u001b[43m)\u001b[49m\n\u001b[0;32m   3762\u001b[0m \u001b[38;5;28;01mif\u001b[39;00m is_integer(indexer):\n\u001b[0;32m   3763\u001b[0m     indexer \u001b[38;5;241m=\u001b[39m [indexer]\n",
      "File \u001b[1;32mc:\\Users\\dtsre\\miniconda3\\envs\\global\\lib\\site-packages\\pandas\\core\\indexes\\base.py:3654\u001b[0m, in \u001b[0;36mIndex.get_loc\u001b[1;34m(self, key)\u001b[0m\n\u001b[0;32m   3652\u001b[0m     \u001b[38;5;28;01mreturn\u001b[39;00m \u001b[38;5;28mself\u001b[39m\u001b[38;5;241m.\u001b[39m_engine\u001b[38;5;241m.\u001b[39mget_loc(casted_key)\n\u001b[0;32m   3653\u001b[0m \u001b[38;5;28;01mexcept\u001b[39;00m \u001b[38;5;167;01mKeyError\u001b[39;00m \u001b[38;5;28;01mas\u001b[39;00m err:\n\u001b[1;32m-> 3654\u001b[0m     \u001b[38;5;28;01mraise\u001b[39;00m \u001b[38;5;167;01mKeyError\u001b[39;00m(key) \u001b[38;5;28;01mfrom\u001b[39;00m \u001b[38;5;21;01merr\u001b[39;00m\n\u001b[0;32m   3655\u001b[0m \u001b[38;5;28;01mexcept\u001b[39;00m \u001b[38;5;167;01mTypeError\u001b[39;00m:\n\u001b[0;32m   3656\u001b[0m     \u001b[38;5;66;03m# If we have a listlike key, _check_indexing_error will raise\u001b[39;00m\n\u001b[0;32m   3657\u001b[0m     \u001b[38;5;66;03m#  InvalidIndexError. Otherwise we fall through and re-raise\u001b[39;00m\n\u001b[0;32m   3658\u001b[0m     \u001b[38;5;66;03m#  the TypeError.\u001b[39;00m\n\u001b[0;32m   3659\u001b[0m     \u001b[38;5;28mself\u001b[39m\u001b[38;5;241m.\u001b[39m_check_indexing_error(key)\n",
      "\u001b[1;31mKeyError\u001b[0m: 'product_id'"
     ]
    }
   ],
   "source": [
    "from sklearn.preprocessing import LabelEncoder\n",
    "\n",
    "# enocde categoru and Fit standardizer\n",
    "encoder = LabelEncoder()\n",
    "X_train['category_encoded'] = encoder.fit_transform(X_train['category'])\n",
    "X_test['category_encoded'] = encoder.fit_transform(X_test['category'])\n",
    "\n",
    "standardizer = fit_standardize(data=X_train)"
   ]
  },
  {
   "cell_type": "code",
   "execution_count": null,
   "metadata": {},
   "outputs": [
    {
     "data": {
      "text/html": [
       "<div>\n",
       "<style scoped>\n",
       "    .dataframe tbody tr th:only-of-type {\n",
       "        vertical-align: middle;\n",
       "    }\n",
       "\n",
       "    .dataframe tbody tr th {\n",
       "        vertical-align: top;\n",
       "    }\n",
       "\n",
       "    .dataframe thead th {\n",
       "        text-align: right;\n",
       "    }\n",
       "</style>\n",
       "<table border=\"1\" class=\"dataframe\">\n",
       "  <thead>\n",
       "    <tr style=\"text-align: right;\">\n",
       "      <th></th>\n",
       "      <th>customer_id</th>\n",
       "      <th>purchase_date</th>\n",
       "      <th>category</th>\n",
       "      <th>price</th>\n",
       "      <th>ratings</th>\n",
       "      <th>page_views</th>\n",
       "      <th>time_spent</th>\n",
       "    </tr>\n",
       "  </thead>\n",
       "  <tbody>\n",
       "    <tr>\n",
       "      <th>3972</th>\n",
       "      <td>18</td>\n",
       "      <td>2024-04-25</td>\n",
       "      <td>Beauty</td>\n",
       "      <td>877</td>\n",
       "      <td>2.6</td>\n",
       "      <td>46</td>\n",
       "      <td>185</td>\n",
       "    </tr>\n",
       "    <tr>\n",
       "      <th>9322</th>\n",
       "      <td>6</td>\n",
       "      <td>2023-07-04</td>\n",
       "      <td>Clothing</td>\n",
       "      <td>180</td>\n",
       "      <td>2.1</td>\n",
       "      <td>25</td>\n",
       "      <td>213</td>\n",
       "    </tr>\n",
       "    <tr>\n",
       "      <th>8184</th>\n",
       "      <td>15</td>\n",
       "      <td>2023-07-02</td>\n",
       "      <td>Beauty</td>\n",
       "      <td>293</td>\n",
       "      <td>4.5</td>\n",
       "      <td>37</td>\n",
       "      <td>144</td>\n",
       "    </tr>\n",
       "    <tr>\n",
       "      <th>6385</th>\n",
       "      <td>3</td>\n",
       "      <td>2023-10-11</td>\n",
       "      <td>Electronics</td>\n",
       "      <td>732</td>\n",
       "      <td>4.9</td>\n",
       "      <td>14</td>\n",
       "      <td>138</td>\n",
       "    </tr>\n",
       "    <tr>\n",
       "      <th>9436</th>\n",
       "      <td>12</td>\n",
       "      <td>2023-06-15</td>\n",
       "      <td>Clothing</td>\n",
       "      <td>180</td>\n",
       "      <td>2.1</td>\n",
       "      <td>43</td>\n",
       "      <td>227</td>\n",
       "    </tr>\n",
       "    <tr>\n",
       "      <th>...</th>\n",
       "      <td>...</td>\n",
       "      <td>...</td>\n",
       "      <td>...</td>\n",
       "      <td>...</td>\n",
       "      <td>...</td>\n",
       "      <td>...</td>\n",
       "      <td>...</td>\n",
       "    </tr>\n",
       "    <tr>\n",
       "      <th>3727</th>\n",
       "      <td>8</td>\n",
       "      <td>2023-08-12</td>\n",
       "      <td>Beauty</td>\n",
       "      <td>314</td>\n",
       "      <td>3.9</td>\n",
       "      <td>13</td>\n",
       "      <td>140</td>\n",
       "    </tr>\n",
       "    <tr>\n",
       "      <th>4182</th>\n",
       "      <td>10</td>\n",
       "      <td>2023-08-02</td>\n",
       "      <td>Electronics</td>\n",
       "      <td>720</td>\n",
       "      <td>4.4</td>\n",
       "      <td>12</td>\n",
       "      <td>153</td>\n",
       "    </tr>\n",
       "    <tr>\n",
       "      <th>4003</th>\n",
       "      <td>18</td>\n",
       "      <td>2024-04-25</td>\n",
       "      <td>Clothing</td>\n",
       "      <td>920</td>\n",
       "      <td>1.8</td>\n",
       "      <td>43</td>\n",
       "      <td>85</td>\n",
       "    </tr>\n",
       "    <tr>\n",
       "      <th>5450</th>\n",
       "      <td>15</td>\n",
       "      <td>2023-08-07</td>\n",
       "      <td>Electronics</td>\n",
       "      <td>673</td>\n",
       "      <td>4.5</td>\n",
       "      <td>13</td>\n",
       "      <td>194</td>\n",
       "    </tr>\n",
       "    <tr>\n",
       "      <th>5644</th>\n",
       "      <td>9</td>\n",
       "      <td>2023-11-22</td>\n",
       "      <td>Beauty</td>\n",
       "      <td>697</td>\n",
       "      <td>1.0</td>\n",
       "      <td>6</td>\n",
       "      <td>184</td>\n",
       "    </tr>\n",
       "  </tbody>\n",
       "</table>\n",
       "<p>6196 rows × 7 columns</p>\n",
       "</div>"
      ],
      "text/plain": [
       "      customer_id purchase_date     category  price  ratings  page_views  \\\n",
       "3972           18    2024-04-25       Beauty    877      2.6          46   \n",
       "9322            6    2023-07-04     Clothing    180      2.1          25   \n",
       "8184           15    2023-07-02       Beauty    293      4.5          37   \n",
       "6385            3    2023-10-11  Electronics    732      4.9          14   \n",
       "9436           12    2023-06-15     Clothing    180      2.1          43   \n",
       "...           ...           ...          ...    ...      ...         ...   \n",
       "3727            8    2023-08-12       Beauty    314      3.9          13   \n",
       "4182           10    2023-08-02  Electronics    720      4.4          12   \n",
       "4003           18    2024-04-25     Clothing    920      1.8          43   \n",
       "5450           15    2023-08-07  Electronics    673      4.5          13   \n",
       "5644            9    2023-11-22       Beauty    697      1.0           6   \n",
       "\n",
       "      time_spent  \n",
       "3972         185  \n",
       "9322         213  \n",
       "8184         144  \n",
       "6385         138  \n",
       "9436         227  \n",
       "...          ...  \n",
       "3727         140  \n",
       "4182         153  \n",
       "4003          85  \n",
       "5450         194  \n",
       "5644         184  \n",
       "\n",
       "[6196 rows x 7 columns]"
      ]
     },
     "execution_count": 18,
     "metadata": {},
     "output_type": "execute_result"
    }
   ],
   "source": [
    "X_train"
   ]
  },
  {
   "cell_type": "code",
   "execution_count": null,
   "metadata": {},
   "outputs": [
    {
     "data": {
      "text/plain": [
       "customer_id\n",
       "15    777\n",
       "3     612\n",
       "6     522\n",
       "5     463\n",
       "9     437\n",
       "18    400\n",
       "8     372\n",
       "20    371\n",
       "10    346\n",
       "11    328\n",
       "16    328\n",
       "7     316\n",
       "12    204\n",
       "14    180\n",
       "17    170\n",
       "4     135\n",
       "19     86\n",
       "2      76\n",
       "13     57\n",
       "1      16\n",
       "Name: count, dtype: int64"
      ]
     },
     "execution_count": 19,
     "metadata": {},
     "output_type": "execute_result"
    }
   ],
   "source": [
    "X_train['customer_id'].value_counts()"
   ]
  },
  {
   "cell_type": "code",
   "execution_count": null,
   "metadata": {},
   "outputs": [
    {
     "data": {
      "text/html": [
       "<div>\n",
       "<style scoped>\n",
       "    .dataframe tbody tr th:only-of-type {\n",
       "        vertical-align: middle;\n",
       "    }\n",
       "\n",
       "    .dataframe tbody tr th {\n",
       "        vertical-align: top;\n",
       "    }\n",
       "\n",
       "    .dataframe thead th {\n",
       "        text-align: right;\n",
       "    }\n",
       "</style>\n",
       "<table border=\"1\" class=\"dataframe\">\n",
       "  <thead>\n",
       "    <tr style=\"text-align: right;\">\n",
       "      <th></th>\n",
       "      <th>customer_id</th>\n",
       "      <th>purchase_date</th>\n",
       "      <th>category</th>\n",
       "      <th>price</th>\n",
       "      <th>ratings</th>\n",
       "      <th>page_views</th>\n",
       "      <th>time_spent</th>\n",
       "      <th>category_encoded</th>\n",
       "    </tr>\n",
       "  </thead>\n",
       "  <tbody>\n",
       "    <tr>\n",
       "      <th>3204</th>\n",
       "      <td>3</td>\n",
       "      <td>2023-11-04</td>\n",
       "      <td>Electronics</td>\n",
       "      <td>426</td>\n",
       "      <td>4.5</td>\n",
       "      <td>48</td>\n",
       "      <td>167</td>\n",
       "      <td>2</td>\n",
       "    </tr>\n",
       "    <tr>\n",
       "      <th>2094</th>\n",
       "      <td>8</td>\n",
       "      <td>2023-10-26</td>\n",
       "      <td>Beauty</td>\n",
       "      <td>266</td>\n",
       "      <td>1.6</td>\n",
       "      <td>18</td>\n",
       "      <td>106</td>\n",
       "      <td>0</td>\n",
       "    </tr>\n",
       "    <tr>\n",
       "      <th>2698</th>\n",
       "      <td>19</td>\n",
       "      <td>2024-02-22</td>\n",
       "      <td>Electronics</td>\n",
       "      <td>673</td>\n",
       "      <td>4.5</td>\n",
       "      <td>4</td>\n",
       "      <td>62</td>\n",
       "      <td>2</td>\n",
       "    </tr>\n",
       "    <tr>\n",
       "      <th>6071</th>\n",
       "      <td>14</td>\n",
       "      <td>2023-12-01</td>\n",
       "      <td>Clothing</td>\n",
       "      <td>207</td>\n",
       "      <td>2.8</td>\n",
       "      <td>11</td>\n",
       "      <td>35</td>\n",
       "      <td>1</td>\n",
       "    </tr>\n",
       "    <tr>\n",
       "      <th>346</th>\n",
       "      <td>20</td>\n",
       "      <td>2024-01-23</td>\n",
       "      <td>Home &amp; Kitchen</td>\n",
       "      <td>81</td>\n",
       "      <td>1.5</td>\n",
       "      <td>17</td>\n",
       "      <td>62</td>\n",
       "      <td>3</td>\n",
       "    </tr>\n",
       "    <tr>\n",
       "      <th>...</th>\n",
       "      <td>...</td>\n",
       "      <td>...</td>\n",
       "      <td>...</td>\n",
       "      <td>...</td>\n",
       "      <td>...</td>\n",
       "      <td>...</td>\n",
       "      <td>...</td>\n",
       "      <td>...</td>\n",
       "    </tr>\n",
       "    <tr>\n",
       "      <th>5944</th>\n",
       "      <td>20</td>\n",
       "      <td>2023-05-02</td>\n",
       "      <td>Electronics</td>\n",
       "      <td>396</td>\n",
       "      <td>3.5</td>\n",
       "      <td>14</td>\n",
       "      <td>249</td>\n",
       "      <td>2</td>\n",
       "    </tr>\n",
       "    <tr>\n",
       "      <th>1794</th>\n",
       "      <td>5</td>\n",
       "      <td>2023-09-14</td>\n",
       "      <td>Clothing</td>\n",
       "      <td>979</td>\n",
       "      <td>3.6</td>\n",
       "      <td>32</td>\n",
       "      <td>260</td>\n",
       "      <td>1</td>\n",
       "    </tr>\n",
       "    <tr>\n",
       "      <th>3595</th>\n",
       "      <td>20</td>\n",
       "      <td>2023-11-07</td>\n",
       "      <td>Clothing</td>\n",
       "      <td>706</td>\n",
       "      <td>1.6</td>\n",
       "      <td>22</td>\n",
       "      <td>69</td>\n",
       "      <td>1</td>\n",
       "    </tr>\n",
       "    <tr>\n",
       "      <th>2473</th>\n",
       "      <td>20</td>\n",
       "      <td>2023-08-06</td>\n",
       "      <td>Home &amp; Kitchen</td>\n",
       "      <td>877</td>\n",
       "      <td>2.8</td>\n",
       "      <td>44</td>\n",
       "      <td>110</td>\n",
       "      <td>3</td>\n",
       "    </tr>\n",
       "    <tr>\n",
       "      <th>1501</th>\n",
       "      <td>9</td>\n",
       "      <td>2023-09-12</td>\n",
       "      <td>Home &amp; Kitchen</td>\n",
       "      <td>629</td>\n",
       "      <td>2.7</td>\n",
       "      <td>39</td>\n",
       "      <td>267</td>\n",
       "      <td>3</td>\n",
       "    </tr>\n",
       "  </tbody>\n",
       "</table>\n",
       "<p>1937 rows × 8 columns</p>\n",
       "</div>"
      ],
      "text/plain": [
       "      customer_id purchase_date        category  price  ratings  page_views  \\\n",
       "3204            3    2023-11-04     Electronics    426      4.5          48   \n",
       "2094            8    2023-10-26          Beauty    266      1.6          18   \n",
       "2698           19    2024-02-22     Electronics    673      4.5           4   \n",
       "6071           14    2023-12-01        Clothing    207      2.8          11   \n",
       "346            20    2024-01-23  Home & Kitchen     81      1.5          17   \n",
       "...           ...           ...             ...    ...      ...         ...   \n",
       "5944           20    2023-05-02     Electronics    396      3.5          14   \n",
       "1794            5    2023-09-14        Clothing    979      3.6          32   \n",
       "3595           20    2023-11-07        Clothing    706      1.6          22   \n",
       "2473           20    2023-08-06  Home & Kitchen    877      2.8          44   \n",
       "1501            9    2023-09-12  Home & Kitchen    629      2.7          39   \n",
       "\n",
       "      time_spent  category_encoded  \n",
       "3204         167                 2  \n",
       "2094         106                 0  \n",
       "2698          62                 2  \n",
       "6071          35                 1  \n",
       "346           62                 3  \n",
       "...          ...               ...  \n",
       "5944         249                 2  \n",
       "1794         260                 1  \n",
       "3595          69                 1  \n",
       "2473         110                 3  \n",
       "1501         267                 3  \n",
       "\n",
       "[1937 rows x 8 columns]"
      ]
     },
     "execution_count": 20,
     "metadata": {},
     "output_type": "execute_result"
    }
   ],
   "source": [
    "X_test"
   ]
  },
  {
   "cell_type": "code",
   "execution_count": null,
   "metadata": {},
   "outputs": [
    {
     "data": {
      "text/html": [
       "<div>\n",
       "<style scoped>\n",
       "    .dataframe tbody tr th:only-of-type {\n",
       "        vertical-align: middle;\n",
       "    }\n",
       "\n",
       "    .dataframe tbody tr th {\n",
       "        vertical-align: top;\n",
       "    }\n",
       "\n",
       "    .dataframe thead th {\n",
       "        text-align: right;\n",
       "    }\n",
       "</style>\n",
       "<table border=\"1\" class=\"dataframe\">\n",
       "  <thead>\n",
       "    <tr style=\"text-align: right;\">\n",
       "      <th></th>\n",
       "      <th>customer_id</th>\n",
       "      <th>price</th>\n",
       "      <th>ratings</th>\n",
       "      <th>page_views</th>\n",
       "      <th>time_spent</th>\n",
       "      <th>category_encoded</th>\n",
       "    </tr>\n",
       "  </thead>\n",
       "  <tbody>\n",
       "    <tr>\n",
       "      <th>count</th>\n",
       "      <td>6196.000000</td>\n",
       "      <td>6196.000000</td>\n",
       "      <td>6196.000000</td>\n",
       "      <td>6196.000000</td>\n",
       "      <td>6196.000000</td>\n",
       "      <td>6196.000000</td>\n",
       "    </tr>\n",
       "    <tr>\n",
       "      <th>mean</th>\n",
       "      <td>10.641704</td>\n",
       "      <td>500.219496</td>\n",
       "      <td>3.003793</td>\n",
       "      <td>24.908974</td>\n",
       "      <td>169.329890</td>\n",
       "      <td>1.364751</td>\n",
       "    </tr>\n",
       "    <tr>\n",
       "      <th>std</th>\n",
       "      <td>5.343995</td>\n",
       "      <td>265.035230</td>\n",
       "      <td>1.147331</td>\n",
       "      <td>13.700384</td>\n",
       "      <td>75.011626</td>\n",
       "      <td>1.026026</td>\n",
       "    </tr>\n",
       "    <tr>\n",
       "      <th>min</th>\n",
       "      <td>1.000000</td>\n",
       "      <td>20.000000</td>\n",
       "      <td>1.000000</td>\n",
       "      <td>2.000000</td>\n",
       "      <td>31.000000</td>\n",
       "      <td>0.000000</td>\n",
       "    </tr>\n",
       "    <tr>\n",
       "      <th>25%</th>\n",
       "      <td>6.000000</td>\n",
       "      <td>276.000000</td>\n",
       "      <td>2.100000</td>\n",
       "      <td>14.000000</td>\n",
       "      <td>106.000000</td>\n",
       "      <td>1.000000</td>\n",
       "    </tr>\n",
       "    <tr>\n",
       "      <th>50%</th>\n",
       "      <td>10.000000</td>\n",
       "      <td>491.000000</td>\n",
       "      <td>3.000000</td>\n",
       "      <td>23.000000</td>\n",
       "      <td>170.000000</td>\n",
       "      <td>1.000000</td>\n",
       "    </tr>\n",
       "    <tr>\n",
       "      <th>75%</th>\n",
       "      <td>15.000000</td>\n",
       "      <td>723.000000</td>\n",
       "      <td>4.100000</td>\n",
       "      <td>38.000000</td>\n",
       "      <td>231.000000</td>\n",
       "      <td>2.000000</td>\n",
       "    </tr>\n",
       "    <tr>\n",
       "      <th>max</th>\n",
       "      <td>20.000000</td>\n",
       "      <td>979.000000</td>\n",
       "      <td>5.000000</td>\n",
       "      <td>50.000000</td>\n",
       "      <td>300.000000</td>\n",
       "      <td>3.000000</td>\n",
       "    </tr>\n",
       "  </tbody>\n",
       "</table>\n",
       "</div>"
      ],
      "text/plain": [
       "       customer_id        price      ratings   page_views   time_spent  \\\n",
       "count  6196.000000  6196.000000  6196.000000  6196.000000  6196.000000   \n",
       "mean     10.641704   500.219496     3.003793    24.908974   169.329890   \n",
       "std       5.343995   265.035230     1.147331    13.700384    75.011626   \n",
       "min       1.000000    20.000000     1.000000     2.000000    31.000000   \n",
       "25%       6.000000   276.000000     2.100000    14.000000   106.000000   \n",
       "50%      10.000000   491.000000     3.000000    23.000000   170.000000   \n",
       "75%      15.000000   723.000000     4.100000    38.000000   231.000000   \n",
       "max      20.000000   979.000000     5.000000    50.000000   300.000000   \n",
       "\n",
       "       category_encoded  \n",
       "count       6196.000000  \n",
       "mean           1.364751  \n",
       "std            1.026026  \n",
       "min            0.000000  \n",
       "25%            1.000000  \n",
       "50%            1.000000  \n",
       "75%            2.000000  \n",
       "max            3.000000  "
      ]
     },
     "execution_count": 21,
     "metadata": {},
     "output_type": "execute_result"
    }
   ],
   "source": [
    "X_train.describe()"
   ]
  },
  {
   "cell_type": "code",
   "execution_count": null,
   "metadata": {},
   "outputs": [
    {
     "data": {
      "text/html": [
       "<div>\n",
       "<style scoped>\n",
       "    .dataframe tbody tr th:only-of-type {\n",
       "        vertical-align: middle;\n",
       "    }\n",
       "\n",
       "    .dataframe tbody tr th {\n",
       "        vertical-align: top;\n",
       "    }\n",
       "\n",
       "    .dataframe thead th {\n",
       "        text-align: right;\n",
       "    }\n",
       "</style>\n",
       "<table border=\"1\" class=\"dataframe\">\n",
       "  <thead>\n",
       "    <tr style=\"text-align: right;\">\n",
       "      <th></th>\n",
       "      <th>customer_id</th>\n",
       "      <th>price</th>\n",
       "      <th>ratings</th>\n",
       "      <th>page_views</th>\n",
       "      <th>time_spent</th>\n",
       "      <th>category_encoded</th>\n",
       "    </tr>\n",
       "  </thead>\n",
       "  <tbody>\n",
       "    <tr>\n",
       "      <th>count</th>\n",
       "      <td>1937.000000</td>\n",
       "      <td>1937.000000</td>\n",
       "      <td>1937.000000</td>\n",
       "      <td>1937.000000</td>\n",
       "      <td>1937.000000</td>\n",
       "      <td>1937.000000</td>\n",
       "    </tr>\n",
       "    <tr>\n",
       "      <th>mean</th>\n",
       "      <td>10.653588</td>\n",
       "      <td>514.950955</td>\n",
       "      <td>3.041353</td>\n",
       "      <td>25.304595</td>\n",
       "      <td>170.481673</td>\n",
       "      <td>1.342282</td>\n",
       "    </tr>\n",
       "    <tr>\n",
       "      <th>std</th>\n",
       "      <td>5.303815</td>\n",
       "      <td>262.619434</td>\n",
       "      <td>1.144493</td>\n",
       "      <td>13.904528</td>\n",
       "      <td>74.064020</td>\n",
       "      <td>0.998467</td>\n",
       "    </tr>\n",
       "    <tr>\n",
       "      <th>min</th>\n",
       "      <td>1.000000</td>\n",
       "      <td>20.000000</td>\n",
       "      <td>1.000000</td>\n",
       "      <td>2.000000</td>\n",
       "      <td>31.000000</td>\n",
       "      <td>0.000000</td>\n",
       "    </tr>\n",
       "    <tr>\n",
       "      <th>25%</th>\n",
       "      <td>6.000000</td>\n",
       "      <td>285.000000</td>\n",
       "      <td>2.100000</td>\n",
       "      <td>14.000000</td>\n",
       "      <td>106.000000</td>\n",
       "      <td>1.000000</td>\n",
       "    </tr>\n",
       "    <tr>\n",
       "      <th>50%</th>\n",
       "      <td>10.000000</td>\n",
       "      <td>554.000000</td>\n",
       "      <td>3.000000</td>\n",
       "      <td>24.000000</td>\n",
       "      <td>183.000000</td>\n",
       "      <td>1.000000</td>\n",
       "    </tr>\n",
       "    <tr>\n",
       "      <th>75%</th>\n",
       "      <td>15.000000</td>\n",
       "      <td>730.000000</td>\n",
       "      <td>4.100000</td>\n",
       "      <td>39.000000</td>\n",
       "      <td>229.000000</td>\n",
       "      <td>2.000000</td>\n",
       "    </tr>\n",
       "    <tr>\n",
       "      <th>max</th>\n",
       "      <td>20.000000</td>\n",
       "      <td>979.000000</td>\n",
       "      <td>5.000000</td>\n",
       "      <td>50.000000</td>\n",
       "      <td>300.000000</td>\n",
       "      <td>3.000000</td>\n",
       "    </tr>\n",
       "  </tbody>\n",
       "</table>\n",
       "</div>"
      ],
      "text/plain": [
       "       customer_id        price      ratings   page_views   time_spent  \\\n",
       "count  1937.000000  1937.000000  1937.000000  1937.000000  1937.000000   \n",
       "mean     10.653588   514.950955     3.041353    25.304595   170.481673   \n",
       "std       5.303815   262.619434     1.144493    13.904528    74.064020   \n",
       "min       1.000000    20.000000     1.000000     2.000000    31.000000   \n",
       "25%       6.000000   285.000000     2.100000    14.000000   106.000000   \n",
       "50%      10.000000   554.000000     3.000000    24.000000   183.000000   \n",
       "75%      15.000000   730.000000     4.100000    39.000000   229.000000   \n",
       "max      20.000000   979.000000     5.000000    50.000000   300.000000   \n",
       "\n",
       "       category_encoded  \n",
       "count       1937.000000  \n",
       "mean           1.342282  \n",
       "std            0.998467  \n",
       "min            0.000000  \n",
       "25%            1.000000  \n",
       "50%            1.000000  \n",
       "75%            2.000000  \n",
       "max            3.000000  "
      ]
     },
     "execution_count": 22,
     "metadata": {},
     "output_type": "execute_result"
    }
   ],
   "source": [
    "X_test.describe()"
   ]
  },
  {
   "cell_type": "code",
   "execution_count": null,
   "metadata": {},
   "outputs": [
    {
     "data": {
      "text/plain": [
       "product_id\n",
       "105    0.305197\n",
       "102    0.244674\n",
       "104    0.168496\n",
       "103    0.150581\n",
       "101    0.131052\n",
       "Name: proportion, dtype: float64"
      ]
     },
     "execution_count": 23,
     "metadata": {},
     "output_type": "execute_result"
    }
   ],
   "source": [
    "y_train.value_counts(normalize=True)"
   ]
  },
  {
   "cell_type": "markdown",
   "metadata": {},
   "source": [
    "do downsampling for majority product (only for training data)"
   ]
  },
  {
   "cell_type": "code",
   "execution_count": null,
   "metadata": {},
   "outputs": [],
   "source": [
    "from imblearn.under_sampling import RandomUnderSampler"
   ]
  },
  {
   "cell_type": "code",
   "execution_count": null,
   "metadata": {},
   "outputs": [],
   "source": [
    "def random_undersampler(X, y):\n",
    "    \"\"\"Function to under sample the majority data\"\"\"\n",
    "    # Create resampling object\n",
    "    ros = RandomUnderSampler(random_state = CONFIG_DATA['seed'])\n",
    "\n",
    "    # Balancing the set data\n",
    "    X_resample, y_resample = ros.fit_resample(X, y)\n",
    "\n",
    "    # Print\n",
    "    print('Distribution before resampling :')\n",
    "    print(y.value_counts())\n",
    "    print(\"\")\n",
    "    print('Distribution after resampling  :')\n",
    "    print(y_resample.value_counts())\n",
    "\n",
    "    return X_resample, y_resample"
   ]
  },
  {
   "cell_type": "code",
   "execution_count": null,
   "metadata": {},
   "outputs": [
    {
     "name": "stdout",
     "output_type": "stream",
     "text": [
      "Distribution before resampling :\n",
      "product_id\n",
      "105    1891\n",
      "102    1516\n",
      "104    1044\n",
      "103     933\n",
      "101     812\n",
      "Name: count, dtype: int64\n",
      "\n",
      "Distribution after resampling  :\n",
      "product_id\n",
      "101    812\n",
      "102    812\n",
      "103    812\n",
      "104    812\n",
      "105    812\n",
      "Name: count, dtype: int64\n"
     ]
    }
   ],
   "source": [
    "X_train_clean, y_train_clean = random_undersampler(X_train, y_train)"
   ]
  },
  {
   "cell_type": "markdown",
   "metadata": {},
   "source": [
    "for X train"
   ]
  },
  {
   "cell_type": "code",
   "execution_count": null,
   "metadata": {},
   "outputs": [],
   "source": [
    "# preprocess only for train data\n",
    "def preprocess_data(type='train', return_file=True):\n",
    "    \"\"\"Function to preprocess train data\"\"\"\n",
    "    # Load data\n",
    "    X = utils.pickle_load(CONFIG_DATA[f'{type}_set_path'][0])\n",
    "    y = utils.pickle_load(CONFIG_DATA[f'{type}_set_path'][1])\n",
    "    \n",
    "    # drop after ordinalencoded\n",
    "    X.drop(columns=['category', 'purchase_date'], inplace=True) \n",
    "    y.drop(columns=['category', 'purchase_date'], inplace=True) \n",
    "    \n",
    "    # Preprocess data\n",
    "    X_clean = X\n",
    "    y_clean = y\n",
    "\n",
    "    # FOR TRAINING ONLY -> DO UNDERSAMPLING\n",
    "    if type == 'train':\n",
    "        X_clean, y_clean = random_undersampler(X, y)\n",
    "\n",
    "    # Print shape\n",
    "    print(\"X clean shape:\", X_clean.shape)\n",
    "    print(\"y clean shape:\", y_clean.shape)\n",
    "\n",
    "    # Dump file\n",
    "    utils.pickle_dump(X_clean, CONFIG_DATA[f'{type}_clean_path'][0])\n",
    "    utils.pickle_dump(y_clean, CONFIG_DATA[f'{type}_clean_path'][1])\n",
    "\n",
    "    if return_file:\n",
    "        return X_clean, y_clean    "
   ]
  },
  {
   "cell_type": "code",
   "execution_count": null,
   "metadata": {},
   "outputs": [
    {
     "name": "stdout",
     "output_type": "stream",
     "text": [
      "Distribution before resampling :\n",
      "product_id\n",
      "105    1891\n",
      "102    1516\n",
      "104    1044\n",
      "103     933\n",
      "101     812\n",
      "Name: count, dtype: int64\n",
      "\n",
      "Distribution after resampling  :\n",
      "product_id\n",
      "101    812\n",
      "102    812\n",
      "103    812\n",
      "104    812\n",
      "105    812\n",
      "Name: count, dtype: int64\n",
      "X clean shape: (4060, 5)\n",
      "y clean shape: (4060,)\n"
     ]
    }
   ],
   "source": [
    "# Transform X_train\n",
    "X_train_clean, y_train_clean = preprocess_data(type = 'train')"
   ]
  },
  {
   "cell_type": "code",
   "execution_count": null,
   "metadata": {},
   "outputs": [
    {
     "name": "stdout",
     "output_type": "stream",
     "text": [
      "X clean shape: (1549, 5)\n",
      "y clean shape: (1549,)\n"
     ]
    }
   ],
   "source": [
    "# Transform X_valid\n",
    "X_valid_clean, y_valid_clean = preprocess_data(type = 'valid')"
   ]
  },
  {
   "cell_type": "code",
   "execution_count": null,
   "metadata": {},
   "outputs": [
    {
     "name": "stdout",
     "output_type": "stream",
     "text": [
      "X clean shape: (1937, 5)\n",
      "y clean shape: (1937,)\n"
     ]
    }
   ],
   "source": [
    "# Transform X_test\n",
    "X_test_clean, y_test_clean = preprocess_data(type = 'test')"
   ]
  },
  {
   "cell_type": "code",
   "execution_count": null,
   "metadata": {},
   "outputs": [
    {
     "data": {
      "text/plain": [
       "3204    102\n",
       "2094    102\n",
       "2698    103\n",
       "6071    105\n",
       "346     102\n",
       "       ... \n",
       "5944    101\n",
       "1794    105\n",
       "3595    104\n",
       "2473    104\n",
       "1501    104\n",
       "Name: product_id, Length: 1937, dtype: int64"
      ]
     },
     "execution_count": 33,
     "metadata": {},
     "output_type": "execute_result"
    }
   ],
   "source": [
    "y_test_clean"
   ]
  },
  {
   "cell_type": "code",
   "execution_count": null,
   "metadata": {},
   "outputs": [
    {
     "data": {
      "text/html": [
       "<div>\n",
       "<style scoped>\n",
       "    .dataframe tbody tr th:only-of-type {\n",
       "        vertical-align: middle;\n",
       "    }\n",
       "\n",
       "    .dataframe tbody tr th {\n",
       "        vertical-align: top;\n",
       "    }\n",
       "\n",
       "    .dataframe thead th {\n",
       "        text-align: right;\n",
       "    }\n",
       "</style>\n",
       "<table border=\"1\" class=\"dataframe\">\n",
       "  <thead>\n",
       "    <tr style=\"text-align: right;\">\n",
       "      <th></th>\n",
       "      <th>customer_id</th>\n",
       "      <th>price</th>\n",
       "      <th>ratings</th>\n",
       "      <th>page_views</th>\n",
       "      <th>time_spent</th>\n",
       "    </tr>\n",
       "  </thead>\n",
       "  <tbody>\n",
       "    <tr>\n",
       "      <th>count</th>\n",
       "      <td>4060.000000</td>\n",
       "      <td>4060.000000</td>\n",
       "      <td>4060.000000</td>\n",
       "      <td>4060.000000</td>\n",
       "      <td>4060.000000</td>\n",
       "    </tr>\n",
       "    <tr>\n",
       "      <th>mean</th>\n",
       "      <td>11.008621</td>\n",
       "      <td>498.135468</td>\n",
       "      <td>3.031256</td>\n",
       "      <td>25.063054</td>\n",
       "      <td>169.901232</td>\n",
       "    </tr>\n",
       "    <tr>\n",
       "      <th>std</th>\n",
       "      <td>5.401739</td>\n",
       "      <td>257.372452</td>\n",
       "      <td>1.141497</td>\n",
       "      <td>13.446213</td>\n",
       "      <td>74.757971</td>\n",
       "    </tr>\n",
       "    <tr>\n",
       "      <th>min</th>\n",
       "      <td>1.000000</td>\n",
       "      <td>20.000000</td>\n",
       "      <td>1.000000</td>\n",
       "      <td>2.000000</td>\n",
       "      <td>31.000000</td>\n",
       "    </tr>\n",
       "    <tr>\n",
       "      <th>25%</th>\n",
       "      <td>6.000000</td>\n",
       "      <td>276.000000</td>\n",
       "      <td>2.100000</td>\n",
       "      <td>14.000000</td>\n",
       "      <td>106.000000</td>\n",
       "    </tr>\n",
       "    <tr>\n",
       "      <th>50%</th>\n",
       "      <td>11.000000</td>\n",
       "      <td>488.000000</td>\n",
       "      <td>3.000000</td>\n",
       "      <td>23.000000</td>\n",
       "      <td>173.000000</td>\n",
       "    </tr>\n",
       "    <tr>\n",
       "      <th>75%</th>\n",
       "      <td>15.000000</td>\n",
       "      <td>715.000000</td>\n",
       "      <td>4.100000</td>\n",
       "      <td>37.250000</td>\n",
       "      <td>231.000000</td>\n",
       "    </tr>\n",
       "    <tr>\n",
       "      <th>max</th>\n",
       "      <td>20.000000</td>\n",
       "      <td>979.000000</td>\n",
       "      <td>5.000000</td>\n",
       "      <td>50.000000</td>\n",
       "      <td>300.000000</td>\n",
       "    </tr>\n",
       "  </tbody>\n",
       "</table>\n",
       "</div>"
      ],
      "text/plain": [
       "       customer_id        price      ratings   page_views   time_spent\n",
       "count  4060.000000  4060.000000  4060.000000  4060.000000  4060.000000\n",
       "mean     11.008621   498.135468     3.031256    25.063054   169.901232\n",
       "std       5.401739   257.372452     1.141497    13.446213    74.757971\n",
       "min       1.000000    20.000000     1.000000     2.000000    31.000000\n",
       "25%       6.000000   276.000000     2.100000    14.000000   106.000000\n",
       "50%      11.000000   488.000000     3.000000    23.000000   173.000000\n",
       "75%      15.000000   715.000000     4.100000    37.250000   231.000000\n",
       "max      20.000000   979.000000     5.000000    50.000000   300.000000"
      ]
     },
     "execution_count": 31,
     "metadata": {},
     "output_type": "execute_result"
    }
   ],
   "source": [
    "X_train_clean.describe()"
   ]
  },
  {
   "cell_type": "code",
   "execution_count": null,
   "metadata": {},
   "outputs": [
    {
     "data": {
      "text/plain": [
       "['customer_id', 'price', 'ratings', 'page_views', 'time_spent']"
      ]
     },
     "execution_count": 32,
     "metadata": {},
     "output_type": "execute_result"
    }
   ],
   "source": [
    "X_train_clean.columns.tolist()"
   ]
  },
  {
   "cell_type": "code",
   "execution_count": null,
   "metadata": {},
   "outputs": [],
   "source": []
  }
 ],
 "metadata": {
  "kernelspec": {
   "display_name": "global",
   "language": "python",
   "name": "python3"
  },
  "language_info": {
   "codemirror_mode": {
    "name": "ipython",
    "version": 3
   },
   "file_extension": ".py",
   "mimetype": "text/x-python",
   "name": "python",
   "nbconvert_exporter": "python",
   "pygments_lexer": "ipython3",
   "version": "3.9.18"
  }
 },
 "nbformat": 4,
 "nbformat_minor": 2
}
