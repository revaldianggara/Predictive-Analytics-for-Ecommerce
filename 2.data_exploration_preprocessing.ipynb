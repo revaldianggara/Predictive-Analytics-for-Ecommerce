{
 "cells": [
  {
   "cell_type": "code",
   "execution_count": 1,
   "metadata": {},
   "outputs": [],
   "source": [
    "import pandas as pd\n",
    "import src.utils as utils\n",
    "import os\n",
    "from faker import Faker\n",
    "\n",
    "from sklearn.model_selection import train_test_split"
   ]
  },
  {
   "cell_type": "markdown",
   "metadata": {},
   "source": [
    "# Load config file"
   ]
  },
  {
   "cell_type": "code",
   "execution_count": 2,
   "metadata": {},
   "outputs": [
    {
     "data": {
      "text/plain": [
       "{'raw_dataset_path': 'data/raw',\n",
       " 'data_set_path': 'data/output/data.pkl',\n",
       " 'input_set_path': 'data/output/input.pkl',\n",
       " 'output_set_path': 'data/output/output.pkl',\n",
       " 'input_columns_path': 'data/output/input_columns.pkl',\n",
       " 'train_set_path': ['data/output/X_train.pkl', 'data/output/y_train.pkl'],\n",
       " 'valid_set_path': ['data/output/X_valid.pkl', 'data/output/y_valid.pkl'],\n",
       " 'test_set_path': ['data/output/X_test.pkl', 'data/output/y_test.pkl'],\n",
       " 'output_column': 'product_id',\n",
       " 'seed': 42,\n",
       " 'test_size': 0.2,\n",
       " 'standardizer_path': 'data/output/standardizer.pkl',\n",
       " 'preprocessor_path': 'data/output/preprocessor.pkl',\n",
       " 'train_clean_path': ['data/output/X_train_clean.pkl',\n",
       "  'data/output/y_train_clean.pkl'],\n",
       " 'valid_clean_path': ['data/output/X_valid_clean.pkl',\n",
       "  'data/output/y_valid_clean.pkl'],\n",
       " 'test_clean_path': ['data/output/X_test_clean.pkl',\n",
       "  'data/output/y_test_clean.pkl'],\n",
       " 'list_of_model_path': 'log/list_of_model.pkl',\n",
       " 'list_of_param_path': 'log/list_of_param.pkl',\n",
       " 'list_of_tuned_model_path': 'log/list_of_tuned_model.pkl',\n",
       " 'best_model_path': 'models/best_model.pkl',\n",
       " 'best_threshold_path': 'models/best_threshold.pkl'}"
      ]
     },
     "execution_count": 2,
     "metadata": {},
     "output_type": "execute_result"
    }
   ],
   "source": [
    "CONFIG_DATA = utils.config_load()\n",
    "CONFIG_DATA"
   ]
  },
  {
   "cell_type": "markdown",
   "metadata": {},
   "source": [
    "## Load Data"
   ]
  },
  {
   "cell_type": "code",
   "execution_count": 3,
   "metadata": {},
   "outputs": [
    {
     "data": {
      "text/plain": [
       "'data/output/X_train.pkl'"
      ]
     },
     "execution_count": 3,
     "metadata": {},
     "output_type": "execute_result"
    }
   ],
   "source": [
    "CONFIG_DATA['train_set_path'][0]"
   ]
  },
  {
   "cell_type": "code",
   "execution_count": 4,
   "metadata": {},
   "outputs": [
    {
     "name": "stdout",
     "output_type": "stream",
     "text": [
      "X_train shape: (6196, 7)\n",
      "y_train shape: (6196,)\n"
     ]
    }
   ],
   "source": [
    "X_train = utils.pickle_load(CONFIG_DATA['train_set_path'][0])\n",
    "y_train = utils.pickle_load(CONFIG_DATA['train_set_path'][1])\n",
    "\n",
    "print('X_train shape:', X_train.shape)\n",
    "print('y_train shape:', y_train.shape)"
   ]
  },
  {
   "cell_type": "code",
   "execution_count": 5,
   "metadata": {},
   "outputs": [
    {
     "data": {
      "text/html": [
       "<div>\n",
       "<style scoped>\n",
       "    .dataframe tbody tr th:only-of-type {\n",
       "        vertical-align: middle;\n",
       "    }\n",
       "\n",
       "    .dataframe tbody tr th {\n",
       "        vertical-align: top;\n",
       "    }\n",
       "\n",
       "    .dataframe thead th {\n",
       "        text-align: right;\n",
       "    }\n",
       "</style>\n",
       "<table border=\"1\" class=\"dataframe\">\n",
       "  <thead>\n",
       "    <tr style=\"text-align: right;\">\n",
       "      <th></th>\n",
       "      <th>customer_id</th>\n",
       "      <th>purchase_date</th>\n",
       "      <th>category</th>\n",
       "      <th>price</th>\n",
       "      <th>ratings</th>\n",
       "      <th>page_views</th>\n",
       "      <th>time_spent</th>\n",
       "      <th>product_id</th>\n",
       "    </tr>\n",
       "  </thead>\n",
       "  <tbody>\n",
       "    <tr>\n",
       "      <th>3972</th>\n",
       "      <td>18</td>\n",
       "      <td>2024-04-25</td>\n",
       "      <td>Beauty</td>\n",
       "      <td>877</td>\n",
       "      <td>2.6</td>\n",
       "      <td>46</td>\n",
       "      <td>185</td>\n",
       "      <td>102</td>\n",
       "    </tr>\n",
       "    <tr>\n",
       "      <th>9322</th>\n",
       "      <td>6</td>\n",
       "      <td>2023-07-04</td>\n",
       "      <td>Clothing</td>\n",
       "      <td>180</td>\n",
       "      <td>2.1</td>\n",
       "      <td>25</td>\n",
       "      <td>213</td>\n",
       "      <td>102</td>\n",
       "    </tr>\n",
       "    <tr>\n",
       "      <th>8184</th>\n",
       "      <td>15</td>\n",
       "      <td>2023-07-02</td>\n",
       "      <td>Beauty</td>\n",
       "      <td>293</td>\n",
       "      <td>4.5</td>\n",
       "      <td>37</td>\n",
       "      <td>144</td>\n",
       "      <td>101</td>\n",
       "    </tr>\n",
       "    <tr>\n",
       "      <th>6385</th>\n",
       "      <td>3</td>\n",
       "      <td>2023-10-11</td>\n",
       "      <td>Electronics</td>\n",
       "      <td>732</td>\n",
       "      <td>4.9</td>\n",
       "      <td>14</td>\n",
       "      <td>138</td>\n",
       "      <td>103</td>\n",
       "    </tr>\n",
       "    <tr>\n",
       "      <th>9436</th>\n",
       "      <td>12</td>\n",
       "      <td>2023-06-15</td>\n",
       "      <td>Clothing</td>\n",
       "      <td>180</td>\n",
       "      <td>2.1</td>\n",
       "      <td>43</td>\n",
       "      <td>227</td>\n",
       "      <td>102</td>\n",
       "    </tr>\n",
       "  </tbody>\n",
       "</table>\n",
       "</div>"
      ],
      "text/plain": [
       "      customer_id purchase_date     category  price  ratings  page_views  \\\n",
       "3972           18    2024-04-25       Beauty    877      2.6          46   \n",
       "9322            6    2023-07-04     Clothing    180      2.1          25   \n",
       "8184           15    2023-07-02       Beauty    293      4.5          37   \n",
       "6385            3    2023-10-11  Electronics    732      4.9          14   \n",
       "9436           12    2023-06-15     Clothing    180      2.1          43   \n",
       "\n",
       "      time_spent  product_id  \n",
       "3972         185         102  \n",
       "9322         213         102  \n",
       "8184         144         101  \n",
       "6385         138         103  \n",
       "9436         227         102  "
      ]
     },
     "execution_count": 5,
     "metadata": {},
     "output_type": "execute_result"
    }
   ],
   "source": [
    "data = pd.concat((X_train, y_train), axis=1)\n",
    "data.head()"
   ]
  },
  {
   "cell_type": "markdown",
   "metadata": {},
   "source": [
    "# EDA"
   ]
  },
  {
   "cell_type": "markdown",
   "metadata": {},
   "source": [
    "cek data types"
   ]
  },
  {
   "cell_type": "code",
   "execution_count": 6,
   "metadata": {},
   "outputs": [
    {
     "data": {
      "text/plain": [
       "customer_id        int64\n",
       "purchase_date     object\n",
       "category          object\n",
       "price              int64\n",
       "ratings          float64\n",
       "page_views         int64\n",
       "time_spent         int64\n",
       "product_id         int64\n",
       "dtype: object"
      ]
     },
     "execution_count": 6,
     "metadata": {},
     "output_type": "execute_result"
    }
   ],
   "source": [
    "data.dtypes"
   ]
  },
  {
   "cell_type": "code",
   "execution_count": 7,
   "metadata": {},
   "outputs": [
    {
     "data": {
      "text/plain": [
       "customer_id      0\n",
       "purchase_date    0\n",
       "category         0\n",
       "price            0\n",
       "ratings          0\n",
       "page_views       0\n",
       "time_spent       0\n",
       "product_id       0\n",
       "dtype: int64"
      ]
     },
     "execution_count": 7,
     "metadata": {},
     "output_type": "execute_result"
    }
   ],
   "source": [
    "# cek missing values\n",
    "data.isna().sum()"
   ]
  },
  {
   "cell_type": "code",
   "execution_count": 8,
   "metadata": {},
   "outputs": [
    {
     "data": {
      "text/plain": [
       "0"
      ]
     },
     "execution_count": 8,
     "metadata": {},
     "output_type": "execute_result"
    }
   ],
   "source": [
    "data.isna().sum().sum()"
   ]
  },
  {
   "cell_type": "code",
   "execution_count": 9,
   "metadata": {},
   "outputs": [
    {
     "data": {
      "image/png": "[encoded data removed]",
      "text/plain": [
       "<Figure size 1200x600 with 2 Axes>"
      ]
     },
     "metadata": {},
     "output_type": "display_data"
    }
   ],
   "source": [
    "import matplotlib.pyplot as plt\n",
    "import seaborn as sns\n",
    "\n",
    "plt.figure(figsize=(12, 6))\n",
    "\n",
    "# Correlation matrix customer_interactions dan product_details\n",
    "correlation_matrix = data[['page_views', 'time_spent', 'price', 'ratings']].corr()\n",
    "\n",
    "# show heatmap\n",
    "sns.heatmap(correlation_matrix, annot=True, cmap='coolwarm', fmt=\".2f\")\n",
    "plt.title('Correlation Matrix of Customer Interactions and Product Details')\n",
    "plt.show()\n"
   ]
  },
  {
   "cell_type": "markdown",
   "metadata": {},
   "source": [
    "- page_views dan time_spent: Ada korelasi positif, yang menunjukkan bahwa user yang melihat lebih banyak halaman cenderung menghabiskan lebih banyak waktu di situs. Hal ini menunjukkan bahwa konten yang menarik berpotensi meningkatkan waktu penelusuran.\n",
    "\n",
    "- page_views dan price: Terdapat korelasi yang negatiif, yang menunjukkan bahwa variabel tersebut sangat lemah atau bahkan tidak ada hubungan linear yang signifikan di antara keduanya. Peningkatan atau penurunan jumlah page_views tidak berdampak secara konsisten pada price, dan sebaliknya.\n",
    "\n",
    "- time_spent dan price: time_spent yang dihabiskan di situs menunjukkan korelasi yang lemah dengan harga produk yang dibeli.\n",
    "\n",
    "- ratings: page_views dan spent_time korelasinya sangat lemah dengan ratings, yang mungkin menunjukkan bahwa keputusan user untuk melihat halaman atau spent_time tidak terlalu dipengaruhi oleh peringkat produk.\n",
    "\n",
    "note: korelasi mendekati 1 menunjukkan korelasi positif. Korelasi mendekati -1 menunjukkan tidak adanya hubungan linear antara dua variabel."
   ]
  },
  {
   "cell_type": "markdown",
   "metadata": {},
   "source": [
    "### Cek produk kategori yang populer dan pola pembeliannya"
   ]
  },
  {
   "cell_type": "code",
   "execution_count": 10,
   "metadata": {},
   "outputs": [
    {
     "data": {
      "image/png": "[encoded data removed]",
      "text/plain": [
       "<Figure size 1400x600 with 2 Axes>"
      ]
     },
     "metadata": {},
     "output_type": "display_data"
    }
   ],
   "source": [
    "# Grouping data\n",
    "category_analysis = data.groupby('category').agg(\n",
    "    Sales_Volume=('product_id', 'count'),\n",
    "    Average_Price=('price', 'mean'),\n",
    "    Average_Ratings=('ratings', 'mean')\n",
    ").sort_values(by='Sales_Volume', ascending=False)\n",
    "\n",
    "\n",
    "fig, ax1 = plt.subplots(figsize=(14, 6))\n",
    "\n",
    "# plot sales volume\n",
    "color = 'tab:blue'\n",
    "ax1.set_xlabel('Category')\n",
    "ax1.set_ylabel('Volume penjualan', color=color)\n",
    "ax1.bar(category_analysis.index, category_analysis['Sales_Volume'], color=color)\n",
    "ax1.tick_params(axis='y', labelcolor=color)\n",
    "\n",
    "# plot twin axis untuk rata2 ratings\n",
    "ax2 = ax1.twinx()\n",
    "color = 'tab:red'\n",
    "ax2.set_ylabel('Rata-rata ratings', color=color)\n",
    "ax2.plot(category_analysis.index, category_analysis['Average_Ratings'], color=color, marker='o')\n",
    "ax2.tick_params(axis='y', labelcolor=color)\n",
    "\n",
    "plt.title('Volume Penjualan dan Rata-Rata Ratings berdasarkan Kategori Produk')\n",
    "plt.show()\n"
   ]
  },
  {
   "cell_type": "code",
   "execution_count": 11,
   "metadata": {},
   "outputs": [
    {
     "data": {
      "text/plain": [
       "ratings\n",
       "2.1    501\n",
       "3.0    398\n",
       "2.8    287\n",
       "4.5    281\n",
       "3.5    278\n",
       "1.1    254\n",
       "4.3    223\n",
       "1.2    223\n",
       "4.7    203\n",
       "4.4    200\n",
       "1.5    196\n",
       "3.3    187\n",
       "4.1    179\n",
       "3.8    179\n",
       "3.6    177\n",
       "3.7    167\n",
       "1.8    164\n",
       "2.5    152\n",
       "2.9    146\n",
       "3.4    137\n",
       "4.2    130\n",
       "1.0    126\n",
       "1.6    122\n",
       "2.2    116\n",
       "2.7    113\n",
       "1.3    108\n",
       "4.6    107\n",
       "3.1    106\n",
       "5.0     97\n",
       "2.6     93\n",
       "1.9     90\n",
       "3.9     88\n",
       "2.4     86\n",
       "2.3     80\n",
       "4.8     79\n",
       "4.9     67\n",
       "2.0     56\n",
       "Name: count, dtype: int64"
      ]
     },
     "execution_count": 11,
     "metadata": {},
     "output_type": "execute_result"
    }
   ],
   "source": [
    "data['ratings'].value_counts()"
   ]
  },
  {
   "cell_type": "markdown",
   "metadata": {},
   "source": [
    "Karna ini pakai data dummy jadi seperti ada anomali, dimana kategori yang punya volume penjualan terbanyak malah memiliki rata2 rating paling kecil.\n",
    "Pada real case nya rata2 rating mempengaruhi keputusan pembelian\n",
    "\n",
    "**Insight**\n",
    "1. Category performance: Kategori dengan penjualan lebih tinggi dan rating yang lebih baik mungkin diprioritaskan untuk keputusan dilakukan promosi. Sebaliknya, kategori dengan penjualan dan peringkat lebih rendah mungkin memerlukan penyesuaian pemasaran atau peningkatan kualitas produk.\n",
    "\n",
    "2. Strategi pemasaran: Memahami kategori mana yang punya kinerja baik dalam hal penjualan dan kepuasan pelanggan busa membantu menyesuaikan strategi pemasaran."
   ]
  },
  {
   "cell_type": "markdown",
   "metadata": {},
   "source": [
    "### Tren Analysis"
   ]
  },
  {
   "cell_type": "code",
   "execution_count": 12,
   "metadata": {},
   "outputs": [
    {
     "data": {
      "image/png": "[encoded data removed]",
      "text/plain": [
       "<Figure size 1200x600 with 1 Axes>"
      ]
     },
     "metadata": {},
     "output_type": "display_data"
    }
   ],
   "source": [
    "# convert 'purchase_date' jadi datetime dan untuk ekstrak bulan dan tahun\n",
    "data['purchase_date'] = pd.to_datetime(data['purchase_date'])\n",
    "data['year_month'] = data['purchase_date'].dt.to_period('M')\n",
    "\n",
    "# Grouping berdasarkan bulan untuk menghitung penmbelian\n",
    "monthly_sales = data.groupby('year_month').size()\n",
    "\n",
    "# Plotting \n",
    "plt.figure(figsize=(12, 6))\n",
    "monthly_sales.plot(kind='bar')\n",
    "plt.title('Tren Penjulanan Bulanan')\n",
    "plt.xlabel('Bulan')\n",
    "plt.ylabel('Volume Pembelian')\n",
    "plt.xticks(rotation=45)\n",
    "plt.show()\n"
   ]
  },
  {
   "cell_type": "markdown",
   "metadata": {},
   "source": [
    "selama 1 tahun, penujalan paling rendah ada di bulan maret 2024, dan paling tinggi di april 2024"
   ]
  },
  {
   "cell_type": "markdown",
   "metadata": {},
   "source": [
    "### Product Performance analysis"
   ]
  },
  {
   "cell_type": "code",
   "execution_count": 13,
   "metadata": {},
   "outputs": [
    {
     "data": {
      "text/html": [
       "<div>\n",
       "<style scoped>\n",
       "    .dataframe tbody tr th:only-of-type {\n",
       "        vertical-align: middle;\n",
       "    }\n",
       "\n",
       "    .dataframe tbody tr th {\n",
       "        vertical-align: top;\n",
       "    }\n",
       "\n",
       "    .dataframe thead th {\n",
       "        text-align: right;\n",
       "    }\n",
       "</style>\n",
       "<table border=\"1\" class=\"dataframe\">\n",
       "  <thead>\n",
       "    <tr style=\"text-align: right;\">\n",
       "      <th></th>\n",
       "      <th>category</th>\n",
       "      <th>product_id</th>\n",
       "      <th>Sales_Volume</th>\n",
       "      <th>Average_Price</th>\n",
       "      <th>Average_Ratings</th>\n",
       "    </tr>\n",
       "  </thead>\n",
       "  <tbody>\n",
       "    <tr>\n",
       "      <th>0</th>\n",
       "      <td>Electronics</td>\n",
       "      <td>102</td>\n",
       "      <td>455</td>\n",
       "      <td>432.648352</td>\n",
       "      <td>2.704396</td>\n",
       "    </tr>\n",
       "    <tr>\n",
       "      <th>1</th>\n",
       "      <td>Electronics</td>\n",
       "      <td>105</td>\n",
       "      <td>429</td>\n",
       "      <td>290.368298</td>\n",
       "      <td>3.070396</td>\n",
       "    </tr>\n",
       "    <tr>\n",
       "      <th>2</th>\n",
       "      <td>Electronics</td>\n",
       "      <td>101</td>\n",
       "      <td>297</td>\n",
       "      <td>389.282828</td>\n",
       "      <td>3.097643</td>\n",
       "    </tr>\n",
       "    <tr>\n",
       "      <th>3</th>\n",
       "      <td>Electronics</td>\n",
       "      <td>104</td>\n",
       "      <td>279</td>\n",
       "      <td>654.390681</td>\n",
       "      <td>3.319355</td>\n",
       "    </tr>\n",
       "    <tr>\n",
       "      <th>4</th>\n",
       "      <td>Electronics</td>\n",
       "      <td>103</td>\n",
       "      <td>133</td>\n",
       "      <td>702.721805</td>\n",
       "      <td>4.701504</td>\n",
       "    </tr>\n",
       "    <tr>\n",
       "      <th>5</th>\n",
       "      <td>Clothing</td>\n",
       "      <td>105</td>\n",
       "      <td>933</td>\n",
       "      <td>618.484459</td>\n",
       "      <td>2.989925</td>\n",
       "    </tr>\n",
       "    <tr>\n",
       "      <th>6</th>\n",
       "      <td>Clothing</td>\n",
       "      <td>102</td>\n",
       "      <td>332</td>\n",
       "      <td>567.496988</td>\n",
       "      <td>2.310843</td>\n",
       "    </tr>\n",
       "    <tr>\n",
       "      <th>7</th>\n",
       "      <td>Clothing</td>\n",
       "      <td>101</td>\n",
       "      <td>323</td>\n",
       "      <td>487.823529</td>\n",
       "      <td>3.191331</td>\n",
       "    </tr>\n",
       "    <tr>\n",
       "      <th>8</th>\n",
       "      <td>Clothing</td>\n",
       "      <td>104</td>\n",
       "      <td>277</td>\n",
       "      <td>562.606498</td>\n",
       "      <td>3.054513</td>\n",
       "    </tr>\n",
       "    <tr>\n",
       "      <th>9</th>\n",
       "      <td>Clothing</td>\n",
       "      <td>103</td>\n",
       "      <td>195</td>\n",
       "      <td>445.902564</td>\n",
       "      <td>3.637436</td>\n",
       "    </tr>\n",
       "  </tbody>\n",
       "</table>\n",
       "</div>"
      ],
      "text/plain": [
       "      category  product_id  Sales_Volume  Average_Price  Average_Ratings\n",
       "0  Electronics         102           455     432.648352         2.704396\n",
       "1  Electronics         105           429     290.368298         3.070396\n",
       "2  Electronics         101           297     389.282828         3.097643\n",
       "3  Electronics         104           279     654.390681         3.319355\n",
       "4  Electronics         103           133     702.721805         4.701504\n",
       "5     Clothing         105           933     618.484459         2.989925\n",
       "6     Clothing         102           332     567.496988         2.310843\n",
       "7     Clothing         101           323     487.823529         3.191331\n",
       "8     Clothing         104           277     562.606498         3.054513\n",
       "9     Clothing         103           195     445.902564         3.637436"
      ]
     },
     "execution_count": 13,
     "metadata": {},
     "output_type": "execute_result"
    }
   ],
   "source": [
    "# Asumsi kategori teratas berdasarkan data volume penjualan sebelumnya, mpakai 3 kategori teratas untuk analisis yang lebih detail\n",
    "# identifikasi 3 kategori teratas\n",
    "top_categories = category_analysis.index[:3]\n",
    "\n",
    "# filter data untuk dari ketegori terats\n",
    "top_category_data = data[data['category'].isin(top_categories)]\n",
    "\n",
    "# Grouping data berdasarkan produk dalam kategori teratas untuk menganalisis volume penjualan, harga rata2, dan rata2 rating\n",
    "product_performance = top_category_data.groupby(['category', 'product_id']).agg(\n",
    "    Sales_Volume=('product_id', 'count'),\n",
    "    Average_Price=('price', 'mean'),\n",
    "    Average_Ratings=('ratings', 'mean')\n",
    ").sort_values(by=['category', 'Sales_Volume'], ascending=False)\n",
    "\n",
    "product_performance.reset_index().head(10)  # tampilkan top 10"
   ]
  },
  {
   "cell_type": "markdown",
   "metadata": {},
   "source": [
    "**INSIGHT**\n",
    "1.  Penjualan Tertinggi dan Rating Tertinggi: Electronics 102 dan Electronics 103 menunjukkan kinerja yang baik berdasarkan volume penjualan yang tinggi dan tingkat kepuasan pelanggan.\n",
    "\n",
    "2.   Sensitivitas Harga: Produk dengan harga lebih tinggi seperti Electronics 103 menunjukkan volume penjualan yang lebih rendah, menunjukkan sensitivitas harga dalam kategori ini.\n",
    "\n",
    "3.   Rating: Clothing 105, ini penjualannya paling tinggi, tapi punya rating yang rendah, yang bisa menjadi area untuk perbaikan atau analisis feedback dari pelanggan.\n",
    "\n",
    "**REKOMENDASI**\n",
    "1. Strategi Penetapan Harga: Untuk barang dengan harga tinggi dengan penjualan lebih rendah, bisa dipertimbangkan untuk menyesuaikan harga atau meningkatkan kualitas dan fitur produk untuk meningkatkan rating dan kepuasan pelanggan.\n",
    "\n",
    "2. Meningkatkan Kualitas Produk atau Layanan kepada Pelanggan: Untuk produk dengan rating yang rendah, teliti keluhan atau feedback dari pelanggan untuk meningkatkan kualitas produk.\n",
    "\n",
    "3. Area Fokus Promosi: Produk yang berkinerja baik bisa dijadikan kampanye pemasaran untuk meningkatkan penjualan yang lebih masif."
   ]
  },
  {
   "cell_type": "markdown",
   "metadata": {},
   "source": [
    "## Data Processing\n",
    "1. encode category:"
   ]
  },
  {
   "cell_type": "code",
   "execution_count": 14,
   "metadata": {},
   "outputs": [],
   "source": [
    "def load_dataset(return_file=True):\n",
    "    # Load train data\n",
    "    X_train = utils.pickle_load(CONFIG_DATA['train_set_path'][0])\n",
    "    y_train = utils.pickle_load(CONFIG_DATA['train_set_path'][1])\n",
    "\n",
    "    # Load valid data\n",
    "    X_valid = utils.pickle_load(CONFIG_DATA['valid_set_path'][0])\n",
    "    y_valid = utils.pickle_load(CONFIG_DATA['valid_set_path'][1])\n",
    "\n",
    "    # Load test data\n",
    "    X_test = utils.pickle_load(CONFIG_DATA['test_set_path'][0])\n",
    "    y_test = utils.pickle_load(CONFIG_DATA['test_set_path'][1])\n",
    "\n",
    "    # Print \n",
    "    print(\"X_train shape :\", X_train.shape)\n",
    "    print(\"y_train shape :\", y_train.shape)\n",
    "    print(\"X_valid shape :\", X_valid.shape)\n",
    "    print(\"y_valid shape :\", y_valid.shape)\n",
    "    print(\"X_test shape  :\", X_test.shape)\n",
    "    print(\"y_test shape  :\", y_test.shape)\n",
    "\n",
    "    if return_file:\n",
    "        return X_train, X_valid, X_test, y_train, y_valid, y_test"
   ]
  },
  {
   "cell_type": "code",
   "execution_count": 15,
   "metadata": {},
   "outputs": [
    {
     "name": "stdout",
     "output_type": "stream",
     "text": [
      "X_train shape : (6196, 7)\n",
      "y_train shape : (6196,)\n",
      "X_valid shape : (1549, 7)\n",
      "y_valid shape : (1549,)\n",
      "X_test shape  : (1937, 7)\n",
      "y_test shape  : (1937,)\n"
     ]
    }
   ],
   "source": [
    "X_train, X_valid, X_test, y_train, y_valid, y_test = load_dataset()"
   ]
  },
  {
   "cell_type": "markdown",
   "metadata": {},
   "source": [
    "## Preprocess train\n",
    "scale the data"
   ]
  },
  {
   "cell_type": "code",
   "execution_count": 16,
   "metadata": {},
   "outputs": [],
   "source": [
    "from sklearn.preprocessing import RobustScaler\n",
    "from sklearn.impute import SimpleImputer\n",
    "import pickle\n",
    "\n",
    "\n",
    "def fit_standardize(data, columns=['page_views', 'time_spent', 'price', 'ratings'], return_file=True):\n",
    "    standardizer = RobustScaler()\n",
    "\n",
    "    # Fit standardizer on the provided columns\n",
    "    standardizer.fit(data[columns])\n",
    "    \n",
    "    # Dump standardizer\n",
    "    utils.pickle_dump(standardizer, CONFIG_DATA['standardizer_path'])\n",
    "    \n",
    "    if return_file:\n",
    "        return standardizer"
   ]
  },
  {
   "cell_type": "code",
   "execution_count": 17,
   "metadata": {},
   "outputs": [],
   "source": [
    "from sklearn.preprocessing import LabelEncoder\n",
    "\n",
    "# enocde categoru and Fit standardizer\n",
    "encoder = LabelEncoder()\n",
    "X_train['category_encoded'] = encoder.fit_transform(X_train['category'])\n",
    "X_test['category_encoded'] = encoder.fit_transform(X_test['category'])\n",
    "X_train.drop(columns=['category', 'purchase_date'], inplace=True) \n",
    "X_test.drop(columns=['category', 'purchase_date'], inplace=True)\n",
    "\n",
    "standardizer = fit_standardize(data=X_train)"
   ]
  },
  {
   "cell_type": "code",
   "execution_count": 18,
   "metadata": {},
   "outputs": [
    {
     "data": {
      "text/html": [
       "<div>\n",
       "<style scoped>\n",
       "    .dataframe tbody tr th:only-of-type {\n",
       "        vertical-align: middle;\n",
       "    }\n",
       "\n",
       "    .dataframe tbody tr th {\n",
       "        vertical-align: top;\n",
       "    }\n",
       "\n",
       "    .dataframe thead th {\n",
       "        text-align: right;\n",
       "    }\n",
       "</style>\n",
       "<table border=\"1\" class=\"dataframe\">\n",
       "  <thead>\n",
       "    <tr style=\"text-align: right;\">\n",
       "      <th></th>\n",
       "      <th>customer_id</th>\n",
       "      <th>price</th>\n",
       "      <th>ratings</th>\n",
       "      <th>page_views</th>\n",
       "      <th>time_spent</th>\n",
       "      <th>category_encoded</th>\n",
       "    </tr>\n",
       "  </thead>\n",
       "  <tbody>\n",
       "    <tr>\n",
       "      <th>3972</th>\n",
       "      <td>18</td>\n",
       "      <td>877</td>\n",
       "      <td>2.6</td>\n",
       "      <td>46</td>\n",
       "      <td>185</td>\n",
       "      <td>0</td>\n",
       "    </tr>\n",
       "    <tr>\n",
       "      <th>9322</th>\n",
       "      <td>6</td>\n",
       "      <td>180</td>\n",
       "      <td>2.1</td>\n",
       "      <td>25</td>\n",
       "      <td>213</td>\n",
       "      <td>1</td>\n",
       "    </tr>\n",
       "    <tr>\n",
       "      <th>8184</th>\n",
       "      <td>15</td>\n",
       "      <td>293</td>\n",
       "      <td>4.5</td>\n",
       "      <td>37</td>\n",
       "      <td>144</td>\n",
       "      <td>0</td>\n",
       "    </tr>\n",
       "    <tr>\n",
       "      <th>6385</th>\n",
       "      <td>3</td>\n",
       "      <td>732</td>\n",
       "      <td>4.9</td>\n",
       "      <td>14</td>\n",
       "      <td>138</td>\n",
       "      <td>2</td>\n",
       "    </tr>\n",
       "    <tr>\n",
       "      <th>9436</th>\n",
       "      <td>12</td>\n",
       "      <td>180</td>\n",
       "      <td>2.1</td>\n",
       "      <td>43</td>\n",
       "      <td>227</td>\n",
       "      <td>1</td>\n",
       "    </tr>\n",
       "    <tr>\n",
       "      <th>...</th>\n",
       "      <td>...</td>\n",
       "      <td>...</td>\n",
       "      <td>...</td>\n",
       "      <td>...</td>\n",
       "      <td>...</td>\n",
       "      <td>...</td>\n",
       "    </tr>\n",
       "    <tr>\n",
       "      <th>3727</th>\n",
       "      <td>8</td>\n",
       "      <td>314</td>\n",
       "      <td>3.9</td>\n",
       "      <td>13</td>\n",
       "      <td>140</td>\n",
       "      <td>0</td>\n",
       "    </tr>\n",
       "    <tr>\n",
       "      <th>4182</th>\n",
       "      <td>10</td>\n",
       "      <td>720</td>\n",
       "      <td>4.4</td>\n",
       "      <td>12</td>\n",
       "      <td>153</td>\n",
       "      <td>2</td>\n",
       "    </tr>\n",
       "    <tr>\n",
       "      <th>4003</th>\n",
       "      <td>18</td>\n",
       "      <td>920</td>\n",
       "      <td>1.8</td>\n",
       "      <td>43</td>\n",
       "      <td>85</td>\n",
       "      <td>1</td>\n",
       "    </tr>\n",
       "    <tr>\n",
       "      <th>5450</th>\n",
       "      <td>15</td>\n",
       "      <td>673</td>\n",
       "      <td>4.5</td>\n",
       "      <td>13</td>\n",
       "      <td>194</td>\n",
       "      <td>2</td>\n",
       "    </tr>\n",
       "    <tr>\n",
       "      <th>5644</th>\n",
       "      <td>9</td>\n",
       "      <td>697</td>\n",
       "      <td>1.0</td>\n",
       "      <td>6</td>\n",
       "      <td>184</td>\n",
       "      <td>0</td>\n",
       "    </tr>\n",
       "  </tbody>\n",
       "</table>\n",
       "<p>6196 rows × 6 columns</p>\n",
       "</div>"
      ],
      "text/plain": [
       "      customer_id  price  ratings  page_views  time_spent  category_encoded\n",
       "3972           18    877      2.6          46         185                 0\n",
       "9322            6    180      2.1          25         213                 1\n",
       "8184           15    293      4.5          37         144                 0\n",
       "6385            3    732      4.9          14         138                 2\n",
       "9436           12    180      2.1          43         227                 1\n",
       "...           ...    ...      ...         ...         ...               ...\n",
       "3727            8    314      3.9          13         140                 0\n",
       "4182           10    720      4.4          12         153                 2\n",
       "4003           18    920      1.8          43          85                 1\n",
       "5450           15    673      4.5          13         194                 2\n",
       "5644            9    697      1.0           6         184                 0\n",
       "\n",
       "[6196 rows x 6 columns]"
      ]
     },
     "execution_count": 18,
     "metadata": {},
     "output_type": "execute_result"
    }
   ],
   "source": [
    "X_train"
   ]
  },
  {
   "cell_type": "code",
   "execution_count": 19,
   "metadata": {},
   "outputs": [
    {
     "data": {
      "text/plain": [
       "customer_id\n",
       "15    777\n",
       "3     612\n",
       "6     522\n",
       "5     463\n",
       "9     437\n",
       "18    400\n",
       "8     372\n",
       "20    371\n",
       "10    346\n",
       "11    328\n",
       "16    328\n",
       "7     316\n",
       "12    204\n",
       "14    180\n",
       "17    170\n",
       "4     135\n",
       "19     86\n",
       "2      76\n",
       "13     57\n",
       "1      16\n",
       "Name: count, dtype: int64"
      ]
     },
     "execution_count": 19,
     "metadata": {},
     "output_type": "execute_result"
    }
   ],
   "source": [
    "X_train['customer_id'].value_counts()"
   ]
  },
  {
   "cell_type": "code",
   "execution_count": 20,
   "metadata": {},
   "outputs": [
    {
     "data": {
      "text/html": [
       "<div>\n",
       "<style scoped>\n",
       "    .dataframe tbody tr th:only-of-type {\n",
       "        vertical-align: middle;\n",
       "    }\n",
       "\n",
       "    .dataframe tbody tr th {\n",
       "        vertical-align: top;\n",
       "    }\n",
       "\n",
       "    .dataframe thead th {\n",
       "        text-align: right;\n",
       "    }\n",
       "</style>\n",
       "<table border=\"1\" class=\"dataframe\">\n",
       "  <thead>\n",
       "    <tr style=\"text-align: right;\">\n",
       "      <th></th>\n",
       "      <th>price</th>\n",
       "      <th>ratings</th>\n",
       "      <th>page_views</th>\n",
       "      <th>time_spent</th>\n",
       "      <th>category_encoded</th>\n",
       "    </tr>\n",
       "  </thead>\n",
       "  <tbody>\n",
       "    <tr>\n",
       "      <th>3204</th>\n",
       "      <td>426</td>\n",
       "      <td>4.5</td>\n",
       "      <td>48</td>\n",
       "      <td>167</td>\n",
       "      <td>2</td>\n",
       "    </tr>\n",
       "    <tr>\n",
       "      <th>2094</th>\n",
       "      <td>266</td>\n",
       "      <td>1.6</td>\n",
       "      <td>18</td>\n",
       "      <td>106</td>\n",
       "      <td>0</td>\n",
       "    </tr>\n",
       "    <tr>\n",
       "      <th>2698</th>\n",
       "      <td>673</td>\n",
       "      <td>4.5</td>\n",
       "      <td>4</td>\n",
       "      <td>62</td>\n",
       "      <td>2</td>\n",
       "    </tr>\n",
       "    <tr>\n",
       "      <th>6071</th>\n",
       "      <td>207</td>\n",
       "      <td>2.8</td>\n",
       "      <td>11</td>\n",
       "      <td>35</td>\n",
       "      <td>1</td>\n",
       "    </tr>\n",
       "    <tr>\n",
       "      <th>346</th>\n",
       "      <td>81</td>\n",
       "      <td>1.5</td>\n",
       "      <td>17</td>\n",
       "      <td>62</td>\n",
       "      <td>3</td>\n",
       "    </tr>\n",
       "    <tr>\n",
       "      <th>...</th>\n",
       "      <td>...</td>\n",
       "      <td>...</td>\n",
       "      <td>...</td>\n",
       "      <td>...</td>\n",
       "      <td>...</td>\n",
       "    </tr>\n",
       "    <tr>\n",
       "      <th>5944</th>\n",
       "      <td>396</td>\n",
       "      <td>3.5</td>\n",
       "      <td>14</td>\n",
       "      <td>249</td>\n",
       "      <td>2</td>\n",
       "    </tr>\n",
       "    <tr>\n",
       "      <th>1794</th>\n",
       "      <td>979</td>\n",
       "      <td>3.6</td>\n",
       "      <td>32</td>\n",
       "      <td>260</td>\n",
       "      <td>1</td>\n",
       "    </tr>\n",
       "    <tr>\n",
       "      <th>3595</th>\n",
       "      <td>706</td>\n",
       "      <td>1.6</td>\n",
       "      <td>22</td>\n",
       "      <td>69</td>\n",
       "      <td>1</td>\n",
       "    </tr>\n",
       "    <tr>\n",
       "      <th>2473</th>\n",
       "      <td>877</td>\n",
       "      <td>2.8</td>\n",
       "      <td>44</td>\n",
       "      <td>110</td>\n",
       "      <td>3</td>\n",
       "    </tr>\n",
       "    <tr>\n",
       "      <th>1501</th>\n",
       "      <td>629</td>\n",
       "      <td>2.7</td>\n",
       "      <td>39</td>\n",
       "      <td>267</td>\n",
       "      <td>3</td>\n",
       "    </tr>\n",
       "  </tbody>\n",
       "</table>\n",
       "<p>1937 rows × 5 columns</p>\n",
       "</div>"
      ],
      "text/plain": [
       "      price  ratings  page_views  time_spent  category_encoded\n",
       "3204    426      4.5          48         167                 2\n",
       "2094    266      1.6          18         106                 0\n",
       "2698    673      4.5           4          62                 2\n",
       "6071    207      2.8          11          35                 1\n",
       "346      81      1.5          17          62                 3\n",
       "...     ...      ...         ...         ...               ...\n",
       "5944    396      3.5          14         249                 2\n",
       "1794    979      3.6          32         260                 1\n",
       "3595    706      1.6          22          69                 1\n",
       "2473    877      2.8          44         110                 3\n",
       "1501    629      2.7          39         267                 3\n",
       "\n",
       "[1937 rows x 5 columns]"
      ]
     },
     "execution_count": 20,
     "metadata": {},
     "output_type": "execute_result"
    }
   ],
   "source": [
    "X_test"
   ]
  },
  {
   "cell_type": "code",
   "execution_count": 22,
   "metadata": {},
   "outputs": [
    {
     "data": {
      "text/html": [
       "<div>\n",
       "<style scoped>\n",
       "    .dataframe tbody tr th:only-of-type {\n",
       "        vertical-align: middle;\n",
       "    }\n",
       "\n",
       "    .dataframe tbody tr th {\n",
       "        vertical-align: top;\n",
       "    }\n",
       "\n",
       "    .dataframe thead th {\n",
       "        text-align: right;\n",
       "    }\n",
       "</style>\n",
       "<table border=\"1\" class=\"dataframe\">\n",
       "  <thead>\n",
       "    <tr style=\"text-align: right;\">\n",
       "      <th></th>\n",
       "      <th>price</th>\n",
       "      <th>ratings</th>\n",
       "      <th>page_views</th>\n",
       "      <th>time_spent</th>\n",
       "      <th>category_encoded</th>\n",
       "    </tr>\n",
       "  </thead>\n",
       "  <tbody>\n",
       "    <tr>\n",
       "      <th>count</th>\n",
       "      <td>6196.000000</td>\n",
       "      <td>6196.000000</td>\n",
       "      <td>6196.000000</td>\n",
       "      <td>6196.000000</td>\n",
       "      <td>6196.000000</td>\n",
       "    </tr>\n",
       "    <tr>\n",
       "      <th>mean</th>\n",
       "      <td>500.219496</td>\n",
       "      <td>3.003793</td>\n",
       "      <td>24.908974</td>\n",
       "      <td>169.329890</td>\n",
       "      <td>1.364751</td>\n",
       "    </tr>\n",
       "    <tr>\n",
       "      <th>std</th>\n",
       "      <td>265.035230</td>\n",
       "      <td>1.147331</td>\n",
       "      <td>13.700384</td>\n",
       "      <td>75.011626</td>\n",
       "      <td>1.026026</td>\n",
       "    </tr>\n",
       "    <tr>\n",
       "      <th>min</th>\n",
       "      <td>20.000000</td>\n",
       "      <td>1.000000</td>\n",
       "      <td>2.000000</td>\n",
       "      <td>31.000000</td>\n",
       "      <td>0.000000</td>\n",
       "    </tr>\n",
       "    <tr>\n",
       "      <th>25%</th>\n",
       "      <td>276.000000</td>\n",
       "      <td>2.100000</td>\n",
       "      <td>14.000000</td>\n",
       "      <td>106.000000</td>\n",
       "      <td>1.000000</td>\n",
       "    </tr>\n",
       "    <tr>\n",
       "      <th>50%</th>\n",
       "      <td>491.000000</td>\n",
       "      <td>3.000000</td>\n",
       "      <td>23.000000</td>\n",
       "      <td>170.000000</td>\n",
       "      <td>1.000000</td>\n",
       "    </tr>\n",
       "    <tr>\n",
       "      <th>75%</th>\n",
       "      <td>723.000000</td>\n",
       "      <td>4.100000</td>\n",
       "      <td>38.000000</td>\n",
       "      <td>231.000000</td>\n",
       "      <td>2.000000</td>\n",
       "    </tr>\n",
       "    <tr>\n",
       "      <th>max</th>\n",
       "      <td>979.000000</td>\n",
       "      <td>5.000000</td>\n",
       "      <td>50.000000</td>\n",
       "      <td>300.000000</td>\n",
       "      <td>3.000000</td>\n",
       "    </tr>\n",
       "  </tbody>\n",
       "</table>\n",
       "</div>"
      ],
      "text/plain": [
       "             price      ratings   page_views   time_spent  category_encoded\n",
       "count  6196.000000  6196.000000  6196.000000  6196.000000       6196.000000\n",
       "mean    500.219496     3.003793    24.908974   169.329890          1.364751\n",
       "std     265.035230     1.147331    13.700384    75.011626          1.026026\n",
       "min      20.000000     1.000000     2.000000    31.000000          0.000000\n",
       "25%     276.000000     2.100000    14.000000   106.000000          1.000000\n",
       "50%     491.000000     3.000000    23.000000   170.000000          1.000000\n",
       "75%     723.000000     4.100000    38.000000   231.000000          2.000000\n",
       "max     979.000000     5.000000    50.000000   300.000000          3.000000"
      ]
     },
     "execution_count": 22,
     "metadata": {},
     "output_type": "execute_result"
    }
   ],
   "source": [
    "X_train.describe()"
   ]
  },
  {
   "cell_type": "code",
   "execution_count": 23,
   "metadata": {},
   "outputs": [
    {
     "data": {
      "text/html": [
       "<div>\n",
       "<style scoped>\n",
       "    .dataframe tbody tr th:only-of-type {\n",
       "        vertical-align: middle;\n",
       "    }\n",
       "\n",
       "    .dataframe tbody tr th {\n",
       "        vertical-align: top;\n",
       "    }\n",
       "\n",
       "    .dataframe thead th {\n",
       "        text-align: right;\n",
       "    }\n",
       "</style>\n",
       "<table border=\"1\" class=\"dataframe\">\n",
       "  <thead>\n",
       "    <tr style=\"text-align: right;\">\n",
       "      <th></th>\n",
       "      <th>price</th>\n",
       "      <th>ratings</th>\n",
       "      <th>page_views</th>\n",
       "      <th>time_spent</th>\n",
       "      <th>category_encoded</th>\n",
       "    </tr>\n",
       "  </thead>\n",
       "  <tbody>\n",
       "    <tr>\n",
       "      <th>count</th>\n",
       "      <td>1937.000000</td>\n",
       "      <td>1937.000000</td>\n",
       "      <td>1937.000000</td>\n",
       "      <td>1937.000000</td>\n",
       "      <td>1937.000000</td>\n",
       "    </tr>\n",
       "    <tr>\n",
       "      <th>mean</th>\n",
       "      <td>514.950955</td>\n",
       "      <td>3.041353</td>\n",
       "      <td>25.304595</td>\n",
       "      <td>170.481673</td>\n",
       "      <td>1.342282</td>\n",
       "    </tr>\n",
       "    <tr>\n",
       "      <th>std</th>\n",
       "      <td>262.619434</td>\n",
       "      <td>1.144493</td>\n",
       "      <td>13.904528</td>\n",
       "      <td>74.064020</td>\n",
       "      <td>0.998467</td>\n",
       "    </tr>\n",
       "    <tr>\n",
       "      <th>min</th>\n",
       "      <td>20.000000</td>\n",
       "      <td>1.000000</td>\n",
       "      <td>2.000000</td>\n",
       "      <td>31.000000</td>\n",
       "      <td>0.000000</td>\n",
       "    </tr>\n",
       "    <tr>\n",
       "      <th>25%</th>\n",
       "      <td>285.000000</td>\n",
       "      <td>2.100000</td>\n",
       "      <td>14.000000</td>\n",
       "      <td>106.000000</td>\n",
       "      <td>1.000000</td>\n",
       "    </tr>\n",
       "    <tr>\n",
       "      <th>50%</th>\n",
       "      <td>554.000000</td>\n",
       "      <td>3.000000</td>\n",
       "      <td>24.000000</td>\n",
       "      <td>183.000000</td>\n",
       "      <td>1.000000</td>\n",
       "    </tr>\n",
       "    <tr>\n",
       "      <th>75%</th>\n",
       "      <td>730.000000</td>\n",
       "      <td>4.100000</td>\n",
       "      <td>39.000000</td>\n",
       "      <td>229.000000</td>\n",
       "      <td>2.000000</td>\n",
       "    </tr>\n",
       "    <tr>\n",
       "      <th>max</th>\n",
       "      <td>979.000000</td>\n",
       "      <td>5.000000</td>\n",
       "      <td>50.000000</td>\n",
       "      <td>300.000000</td>\n",
       "      <td>3.000000</td>\n",
       "    </tr>\n",
       "  </tbody>\n",
       "</table>\n",
       "</div>"
      ],
      "text/plain": [
       "             price      ratings   page_views   time_spent  category_encoded\n",
       "count  1937.000000  1937.000000  1937.000000  1937.000000       1937.000000\n",
       "mean    514.950955     3.041353    25.304595   170.481673          1.342282\n",
       "std     262.619434     1.144493    13.904528    74.064020          0.998467\n",
       "min      20.000000     1.000000     2.000000    31.000000          0.000000\n",
       "25%     285.000000     2.100000    14.000000   106.000000          1.000000\n",
       "50%     554.000000     3.000000    24.000000   183.000000          1.000000\n",
       "75%     730.000000     4.100000    39.000000   229.000000          2.000000\n",
       "max     979.000000     5.000000    50.000000   300.000000          3.000000"
      ]
     },
     "execution_count": 23,
     "metadata": {},
     "output_type": "execute_result"
    }
   ],
   "source": [
    "X_test.describe()"
   ]
  },
  {
   "cell_type": "code",
   "execution_count": 25,
   "metadata": {},
   "outputs": [
    {
     "data": {
      "text/plain": [
       "product_id\n",
       "105    0.305197\n",
       "102    0.244674\n",
       "104    0.168496\n",
       "103    0.150581\n",
       "101    0.131052\n",
       "Name: proportion, dtype: float64"
      ]
     },
     "execution_count": 25,
     "metadata": {},
     "output_type": "execute_result"
    }
   ],
   "source": [
    "y_train.value_counts(normalize=True)"
   ]
  },
  {
   "cell_type": "code",
   "execution_count": 27,
   "metadata": {},
   "outputs": [
    {
     "data": {
      "text/plain": [
       "['price', 'ratings', 'page_views', 'time_spent', 'category_encoded']"
      ]
     },
     "execution_count": 27,
     "metadata": {},
     "output_type": "execute_result"
    }
   ],
   "source": [
    "X_test.columns.tolist()"
   ]
  }
 ],
 "metadata": {
  "kernelspec": {
   "display_name": "global",
   "language": "python",
   "name": "python3"
  },
  "language_info": {
   "codemirror_mode": {
    "name": "ipython",
    "version": 3
   },
   "file_extension": ".py",
   "mimetype": "text/x-python",
   "name": "python",
   "nbconvert_exporter": "python",
   "pygments_lexer": "ipython3",
   "version": "3.9.18"
  }
 },
 "nbformat": 4,
 "nbformat_minor": 2
}
